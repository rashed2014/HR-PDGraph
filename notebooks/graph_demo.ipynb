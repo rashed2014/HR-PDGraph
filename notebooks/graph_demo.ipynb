{
 "cells": [
  {
   "cell_type": "markdown",
   "id": "15ac90f9-5b33-4743-964e-0fad0d4a5d9b",
   "metadata": {},
   "source": [
    "### 1. Community Detection on Resumes via Trait/Skill Overlap\n",
    "\n",
    "Uncover latent clusters of resumes based on shared KSAs or traits. This community detection approach reveals resumes that are semantically related based on how they connect to shared traits or skills.\n",
    "\n",
    "This can help you identify candidate pools that share similar capabilities (e.g., STEM-heavy, humanities-oriented, or hybrid profiles).\n",
    "\n",
    "```cypher\n",
    "CALL gds.graph.project(\n",
    "  'resume_trait_graph',\n",
    "  ['Resume', 'Trait'],\n",
    "  {\n",
    "    CONTAINS: {type: 'CONTAINS', orientation: 'UNDIRECTED'},\n",
    "    SIMILAR_TO: {type: 'SIMILAR_TO', orientation: 'UNDIRECTED'},\n",
    "    ALIGNS_WITH: {type: 'ALIGNS_WITH', orientation: 'UNDIRECTED'}\n",
    "  }\n",
    ");\n",
    "\n",
    "CALL gds.louvain.write('resume_trait_graph', {\n",
    "  writeProperty: 'community_id'\n",
    "});\n"
   ]
  }
 ],
 "metadata": {
  "kernelspec": {
   "display_name": "Python 3 (ipykernel)",
   "language": "python",
   "name": "python3"
  },
  "language_info": {
   "codemirror_mode": {
    "name": "ipython",
    "version": 3
   },
   "file_extension": ".py",
   "mimetype": "text/x-python",
   "name": "python",
   "nbconvert_exporter": "python",
   "pygments_lexer": "ipython3",
   "version": "3.11.10"
  }
 },
 "nbformat": 4,
 "nbformat_minor": 5
}
