{
 "cells": [
  {
   "cell_type": "markdown",
   "id": "69fb24d4-92bc-4228-8901-e878003ed42b",
   "metadata": {},
   "source": [
    "# 📄 Resume-to-O*NET Semantic Similarity Pipeline\n",
    "\n",
    "This notebook computes semantic similarity between **resume text** and multiple **O*NET categories** (Knowledge, Skills, Abilities, Work Activities) using a transformer-based embedding model. The goal is to identify relevant O*NET concepts mentioned in resumes based on cosine similarity of noun phrases extracted from the text.\n",
    "\n",
    "---\n",
    "\n",
    "## 🚀 Features\n",
    "\n",
    "- Loads resumes from a SQLite database with user annotations (`rating = 5`)\n",
    "- Processes multiple O*NET CSV datasets from a directory\n",
    "- Uses noun phrase extraction to analyze resume content\n",
    "- Computes semantic similarity using sentence embeddings\n",
    "- Saves similarity results to CSV files for each O*NET category\n",
    "\n",
    "---\n",
    "\n",
    "## 📦 Input Files\n",
    "\n",
    "### SQLite Database\n",
    "\n",
    "The database must include:\n",
    "- `resumes` table with columns: `id`, `resume_text`\n",
    "- `annotations` table with: `resume_id`, `rating`\n",
    "- `predicted_jobs` table with: `resume_id`, `job_title`\n",
    "\n",
    "Only resumes with `rating = 5` will be processed.\n",
    "\n",
    "### O*NET CSV Files\n",
    "\n",
    "Each CSV file should contain:\n",
    "- `job_title`: the job name/title\n",
    "- `knowledge_entity`: the concept, skill, or activity\n",
    "- `data_value`: importance or level (numeric)\n",
    "\n",
    "These files are automatically processed one by one.\n",
    "\n",
    "---\n",
    "\n",
    "## 🧠 How It Works\n",
    "\n",
    "1. Load resumes with `rating = 5` from the SQLite database.\n",
    "2. Loop over each O*NET CSV file (e.g., Knowledge, Skills, etc.).\n",
    "3. For each resume:\n",
    "   - Filter relevant O*NET entities by matching job titles.\n",
    "   - Extract noun phrases from the resume text.\n",
    "   - Generate sentence embeddings for both noun phrases and O*NET entities.\n",
    "   - Compute cosine similarity between each pair.\n",
    "   - Keep matches with similarity ≥ 0.65.\n",
    "4. Save the similarity results into a separate CSV file for each category.\n",
    "\n",
    "---\n",
    "\n",
    "## 🧾 Output Format\n",
    "\n",
    "Each output file contains:\n",
    "\n",
    "| Column           | Description                                |\n",
    "|------------------|--------------------------------------------|\n",
    "| resume_id        | Resume ID                                  |\n",
    "| job_title        | Job title associated with the resume       |\n",
    "| noun_phrase      | Extracted noun phrase from resume          |\n",
    "| knowledge_entity | Matching O*NET entity                      |\n",
    "| similarity_score | Cosine similarity score (0 to 1)           |\n",
    "| data_value       | Importance or level from O*NET (numeric)   |\n",
    "\n",
    "---\n",
    "\n",
    "## ✅ Sample Output\n",
    "\n"
   ]
  },
  {
   "cell_type": "code",
   "execution_count": 1,
   "id": "6f7d3c98-25ad-41e9-97b0-a8f9718c9030",
   "metadata": {},
   "outputs": [],
   "source": [
    "import os\n",
    "import sqlite3\n",
    "import pandas as pd\n",
    "import logging\n",
    "from textblob import TextBlob\n",
    "from sentence_transformers import SentenceTransformer\n",
    "from sklearn.metrics.pairwise import cosine_similarity\n",
    "import numpy as np\n",
    "import torch\n",
    "from tqdm import tqdm\n",
    "import os"
   ]
  },
  {
   "cell_type": "code",
   "execution_count": 2,
   "id": "aa4adfc0-8a05-4d84-adde-4fd58ac9eb99",
   "metadata": {},
   "outputs": [
    {
     "name": "stderr",
     "output_type": "stream",
     "text": [
      "INFO: Using device: cuda:0\n",
      "INFO: Load pretrained SentenceTransformer: all-MiniLM-L6-v2\n"
     ]
    }
   ],
   "source": [
    "# --------------------------------------------------\n",
    "# Setup: Logging and device check\n",
    "# --------------------------------------------------\n",
    "\n",
    "logging.basicConfig(level=logging.INFO, format='%(levelname)s: %(message)s')\n",
    "\n",
    "device = torch.device(\"cuda:0\" if torch.cuda.is_available() else \"cpu\")\n",
    "logging.info(f\"Using device: {device}\")\n",
    "\n",
    "# --------------------------------------------------\n",
    "# Load SentenceTransformer embedding model\n",
    "# --------------------------------------------------\n",
    "\n",
    "model = SentenceTransformer(\"all-MiniLM-L6-v2\", device=device)\n",
    "\n",
    "# --------------------------------------------------\n",
    "# Output directory for similarity matrices\n",
    "# --------------------------------------------------\n",
    "\n",
    "output_dir = \"../data/similarity_outputs\"\n",
    "os.makedirs(output_dir, exist_ok=True)\n",
    "\n",
    "# --------------------------------------------------\n",
    "# Function: Compute similarity between resume and O*NET entities\n",
    "# --------------------------------------------------"
   ]
  },
  {
   "cell_type": "code",
   "execution_count": 18,
   "id": "bf8ee68f-1377-47bc-9fdb-c12a7e1445ad",
   "metadata": {},
   "outputs": [],
   "source": [
    "def compute_resume_similarity(resume_row, df_onet, model, category_name, threshold=0.65, batch_size=32):\n",
    "    results = []\n",
    "\n",
    "    # Dynamic column names\n",
    "    entity_col = f\"{category_name}_entity\"\n",
    "    soc_code_col = \"onetsoc_code\"\n",
    "    job_title_col = \"job_title\"\n",
    "    data_value_col = \"data_value\"\n",
    "\n",
    "    # Check for required columns\n",
    "    required_cols = [entity_col, soc_code_col, job_title_col, data_value_col]\n",
    "    for col in required_cols:\n",
    "        if col not in df_onet.columns:\n",
    "            logging.error(f\"Missing column '{col}' in O*NET data for category '{category_name}'\")\n",
    "            return results\n",
    "\n",
    "    # Resume info\n",
    "    resume_id = resume_row[\"resume_id\"]\n",
    "    resume_text = resume_row[\"resume_text\"]\n",
    "    original_job = resume_row[\"original_job\"]\n",
    "\n",
    "    # Extract unique noun phrases\n",
    "    blob = TextBlob(resume_text)\n",
    "    noun_phrases = list(set(blob.noun_phrases))\n",
    "    if not noun_phrases:\n",
    "        logging.warning(f\"No noun phrases found in resume ID {resume_id}\")\n",
    "        return results\n",
    "\n",
    "    # Encode noun phrases and O*NET entities\n",
    "    resume_embeddings = model.encode(noun_phrases, convert_to_numpy=True, batch_size=batch_size)\n",
    "    entity_values = df_onet[entity_col].tolist()\n",
    "    entity_embeddings = model.encode(entity_values, convert_to_numpy=True, batch_size=batch_size)\n",
    "\n",
    "    # print(f\"Length of {category_name} entities: {len(entity_values)}\")\n",
    "    # print(f\"Length of noun phrase list: {len(noun_phrases)}\")\n",
    "    \n",
    "    # Compute cosine similarities\n",
    "    similarity_matrix = cosine_similarity(resume_embeddings, entity_embeddings)\n",
    "\n",
    "    # Match and collect results\n",
    "    for i, noun_phrase in enumerate(noun_phrases):\n",
    "        for j, entity in enumerate(entity_values):\n",
    "            score = similarity_matrix[i, j]\n",
    "            if score >= threshold:\n",
    "                matched = df_onet[df_onet[entity_col] == entity].iloc[0]\n",
    "                results.append({\n",
    "                    \"resume_id\": resume_id,\n",
    "                    \"resume_text\": resume_text,\n",
    "                    \"noun_phrase\": noun_phrase,\n",
    "                    \"ksa_entity\": entity,\n",
    "                    \"similarity_score\": round(score, 4),\n",
    "                    \"entity_job_title\": matched[job_title_col],\n",
    "                    \"onetsoc_code\": matched[soc_code_col]\n",
    "                })\n",
    "\n",
    "    return results"
   ]
  },
  {
   "cell_type": "code",
   "execution_count": 13,
   "id": "5a9f8d66-49dc-4784-ae15-2f518b2a733b",
   "metadata": {},
   "outputs": [],
   "source": [
    "def main():\n",
    "    resume_path = \"../data/annotations_scenario_1/cleaned_resumes.csv\"\n",
    "    df_resumes = pd.read_csv(resume_path)\n",
    "    df_resumes = df_resumes[df_resumes[\"annotation_1\"].astype(int) >= 3]\n",
    "\n",
    "    onet_dir = \"../data/o_net_files\"\n",
    "    for filename in os.listdir(onet_dir)[:1]:\n",
    "        if filename.endswith(\".csv\"):\n",
    "            category = os.path.splitext(filename)[0].lower()\n",
    "            logging.info(f\"🔍 Processing category: {category}\")\n",
    "\n",
    "            df_onet = pd.read_csv(os.path.join(onet_dir, filename))\n",
    "\n",
    "            all_results = []\n",
    "            for _, row in tqdm(df_resumes.iterrows(), total=len(df_resumes), desc=f\"Matching for {category}\"):\n",
    "                matches = compute_resume_similarity(row, df_onet, model, category)\n",
    "                all_results.extend(matches)\n",
    "\n",
    "            # Save similarity matrix for this category\n",
    "            df_out = pd.DataFrame(all_results).drop_duplicates()\n",
    "            out_path = os.path.join(output_dir, f\"resume_{category}_similarity_matrix.csv\")\n",
    "            df_out.to_csv(out_path, index=False)\n",
    "            logging.info(f\"✅ Saved: {out_path}\")\n",
    "\n",
    "    logging.info(\"🎉 Done computing similarity for all O*NET categories.\")\n",
    "\n"
   ]
  },
  {
   "cell_type": "code",
   "execution_count": 19,
   "id": "52efe39c-e811-4f15-9664-16ffc244fcb6",
   "metadata": {},
   "outputs": [
    {
     "name": "stderr",
     "output_type": "stream",
     "text": [
      "Matching for abilities:   1%|          | 1/92 [00:00<00:09,  9.55it/s]"
     ]
    },
    {
     "name": "stdout",
     "output_type": "stream",
     "text": [
      "Length of abilities entities: 52\n",
      "Length of noun phrase list: 169\n",
      "Length of abilities entities: 52\n",
      "Length of noun phrase list: 188\n",
      "Length of abilities entities: 52\n",
      "Length of noun phrase list: 152\n"
     ]
    },
    {
     "name": "stderr",
     "output_type": "stream",
     "text": [
      "Matching for abilities:   5%|▌         | 5/92 [00:00<00:08, 10.87it/s]"
     ]
    },
    {
     "name": "stdout",
     "output_type": "stream",
     "text": [
      "Length of abilities entities: 52\n",
      "Length of noun phrase list: 111\n",
      "Length of abilities entities: 52\n",
      "Length of noun phrase list: 64\n",
      "Length of abilities entities: 52\n",
      "Length of noun phrase list: 99\n",
      "Length of abilities entities: 52\n",
      "Length of noun phrase list: 24\n"
     ]
    },
    {
     "name": "stderr",
     "output_type": "stream",
     "text": [
      "Matching for abilities:  11%|█         | 10/92 [00:00<00:05, 14.99it/s]"
     ]
    },
    {
     "name": "stdout",
     "output_type": "stream",
     "text": [
      "Length of abilities entities: 52\n",
      "Length of noun phrase list: 83\n",
      "Length of abilities entities: 52\n",
      "Length of noun phrase list: 55\n",
      "Length of abilities entities: 52\n",
      "Length of noun phrase list: 48\n",
      "Length of abilities entities: 52\n",
      "Length of noun phrase list: 35\n"
     ]
    },
    {
     "name": "stderr",
     "output_type": "stream",
     "text": [
      "Matching for abilities:  13%|█▎        | 12/92 [00:00<00:05, 15.35it/s]"
     ]
    },
    {
     "name": "stdout",
     "output_type": "stream",
     "text": [
      "Length of abilities entities: 52\n",
      "Length of noun phrase list: 31\n",
      "Length of abilities entities: 52\n",
      "Length of noun phrase list: 267\n"
     ]
    },
    {
     "name": "stderr",
     "output_type": "stream",
     "text": [
      "Matching for abilities:  17%|█▋        | 16/92 [00:01<00:06, 12.54it/s]"
     ]
    },
    {
     "name": "stdout",
     "output_type": "stream",
     "text": [
      "Length of abilities entities: 52\n",
      "Length of noun phrase list: 67\n",
      "Length of abilities entities: 52\n",
      "Length of noun phrase list: 58\n",
      "Length of abilities entities: 52\n",
      "Length of noun phrase list: 34\n",
      "Length of abilities entities: 52\n",
      "Length of noun phrase list: 23\n"
     ]
    },
    {
     "name": "stderr",
     "output_type": "stream",
     "text": [
      "Matching for abilities:  22%|██▏       | 20/92 [00:01<00:04, 15.06it/s]"
     ]
    },
    {
     "name": "stdout",
     "output_type": "stream",
     "text": [
      "Length of abilities entities: 52\n",
      "Length of noun phrase list: 115\n",
      "Length of abilities entities: 52\n",
      "Length of noun phrase list: 60\n",
      "Length of abilities entities: 52\n",
      "Length of noun phrase list: 32\n",
      "Length of abilities entities: 52\n",
      "Length of noun phrase list: 28\n"
     ]
    },
    {
     "name": "stderr",
     "output_type": "stream",
     "text": [
      "Matching for abilities:  27%|██▋       | 25/92 [00:01<00:03, 17.27it/s]"
     ]
    },
    {
     "name": "stdout",
     "output_type": "stream",
     "text": [
      "Length of abilities entities: 52\n",
      "Length of noun phrase list: 86\n",
      "Length of abilities entities: 52\n",
      "Length of noun phrase list: 85\n",
      "Length of abilities entities: 52\n",
      "Length of noun phrase list: 71\n",
      "Length of abilities entities: 52\n",
      "Length of noun phrase list: 50\n",
      "Length of abilities entities: 52\n",
      "Length of noun phrase list: 30\n"
     ]
    },
    {
     "name": "stderr",
     "output_type": "stream",
     "text": [
      "Matching for abilities:  32%|███▏      | 29/92 [00:02<00:04, 15.39it/s]"
     ]
    },
    {
     "name": "stdout",
     "output_type": "stream",
     "text": [
      "Length of abilities entities: 52\n",
      "Length of noun phrase list: 102\n",
      "Length of abilities entities: 52\n",
      "Length of noun phrase list: 101\n",
      "Length of abilities entities: 52\n",
      "Length of noun phrase list: 110\n"
     ]
    },
    {
     "name": "stderr",
     "output_type": "stream",
     "text": [
      "Matching for abilities:  34%|███▎      | 31/92 [00:02<00:04, 13.40it/s]"
     ]
    },
    {
     "name": "stdout",
     "output_type": "stream",
     "text": [
      "Length of abilities entities: 52\n",
      "Length of noun phrase list: 110\n",
      "Length of abilities entities: 52\n",
      "Length of noun phrase list: 126\n",
      "Length of abilities entities: 52\n",
      "Length of noun phrase list: 74\n"
     ]
    },
    {
     "name": "stderr",
     "output_type": "stream",
     "text": [
      "Matching for abilities:  38%|███▊      | 35/92 [00:02<00:03, 15.39it/s]"
     ]
    },
    {
     "name": "stdout",
     "output_type": "stream",
     "text": [
      "Length of abilities entities: 52\n",
      "Length of noun phrase list: 75\n",
      "Length of abilities entities: 52\n",
      "Length of noun phrase list: 76\n",
      "Length of abilities entities: 52\n",
      "Length of noun phrase list: 67\n"
     ]
    },
    {
     "name": "stderr",
     "output_type": "stream",
     "text": [
      "Matching for abilities:  40%|████      | 37/92 [00:02<00:04, 12.11it/s]"
     ]
    },
    {
     "name": "stdout",
     "output_type": "stream",
     "text": [
      "Length of abilities entities: 52\n",
      "Length of noun phrase list: 292\n",
      "Length of abilities entities: 52\n",
      "Length of noun phrase list: 185\n",
      "Length of abilities entities: 52\n",
      "Length of noun phrase list: 69\n",
      "Length of abilities entities: 52\n",
      "Length of noun phrase list: 64\n"
     ]
    },
    {
     "name": "stderr",
     "output_type": "stream",
     "text": [
      "Matching for abilities:  46%|████▌     | 42/92 [00:03<00:03, 12.96it/s]"
     ]
    },
    {
     "name": "stdout",
     "output_type": "stream",
     "text": [
      "Length of abilities entities: 52\n",
      "Length of noun phrase list: 178\n",
      "Length of abilities entities: 52\n",
      "Length of noun phrase list: 113\n",
      "Length of abilities entities: 52\n",
      "Length of noun phrase list: 111\n"
     ]
    },
    {
     "name": "stderr",
     "output_type": "stream",
     "text": [
      "Matching for abilities:  48%|████▊     | 44/92 [00:03<00:03, 12.47it/s]"
     ]
    },
    {
     "name": "stdout",
     "output_type": "stream",
     "text": [
      "Length of abilities entities: 52\n",
      "Length of noun phrase list: 105\n",
      "Length of abilities entities: 52\n",
      "Length of noun phrase list: 226\n",
      "Length of abilities entities: 52\n",
      "Length of noun phrase list: 138\n"
     ]
    },
    {
     "name": "stderr",
     "output_type": "stream",
     "text": [
      "Matching for abilities:  52%|█████▏    | 48/92 [00:03<00:03, 12.99it/s]"
     ]
    },
    {
     "name": "stdout",
     "output_type": "stream",
     "text": [
      "Length of abilities entities: 52\n",
      "Length of noun phrase list: 168\n",
      "Length of abilities entities: 52\n",
      "Length of noun phrase list: 126\n",
      "Length of abilities entities: 52\n",
      "Length of noun phrase list: 79\n"
     ]
    },
    {
     "name": "stderr",
     "output_type": "stream",
     "text": [
      "Matching for abilities:  57%|█████▋    | 52/92 [00:03<00:02, 14.02it/s]"
     ]
    },
    {
     "name": "stdout",
     "output_type": "stream",
     "text": [
      "Length of abilities entities: 52\n",
      "Length of noun phrase list: 172\n",
      "Length of abilities entities: 52\n",
      "Length of noun phrase list: 117\n",
      "Length of abilities entities: 52\n",
      "Length of noun phrase list: 24\n",
      "Length of abilities entities: 52\n",
      "Length of noun phrase list: 124\n"
     ]
    },
    {
     "name": "stderr",
     "output_type": "stream",
     "text": [
      "Matching for abilities:  61%|██████    | 56/92 [00:04<00:02, 15.12it/s]"
     ]
    },
    {
     "name": "stdout",
     "output_type": "stream",
     "text": [
      "Length of abilities entities: 52\n",
      "Length of noun phrase list: 102\n",
      "Length of abilities entities: 52\n",
      "Length of noun phrase list: 72\n",
      "Length of abilities entities: 52\n",
      "Length of noun phrase list: 46\n",
      "Length of abilities entities: 52\n",
      "Length of noun phrase list: 24\n"
     ]
    },
    {
     "name": "stderr",
     "output_type": "stream",
     "text": [
      "Matching for abilities:  63%|██████▎   | 58/92 [00:04<00:03, 10.79it/s]"
     ]
    },
    {
     "name": "stdout",
     "output_type": "stream",
     "text": [
      "Length of abilities entities: 52\n",
      "Length of noun phrase list: 315\n",
      "Length of abilities entities: 52\n",
      "Length of noun phrase list: 154\n",
      "Length of abilities entities: 52\n",
      "Length of noun phrase list: 137\n"
     ]
    },
    {
     "name": "stderr",
     "output_type": "stream",
     "text": [
      "Matching for abilities:  67%|██████▋   | 62/92 [00:04<00:02, 11.48it/s]"
     ]
    },
    {
     "name": "stdout",
     "output_type": "stream",
     "text": [
      "Length of abilities entities: 52\n",
      "Length of noun phrase list: 111\n",
      "Length of abilities entities: 52\n",
      "Length of noun phrase list: 158\n",
      "Length of abilities entities: 52\n",
      "Length of noun phrase list: 192\n"
     ]
    },
    {
     "name": "stderr",
     "output_type": "stream",
     "text": [
      "Matching for abilities:  72%|███████▏  | 66/92 [00:04<00:01, 13.18it/s]"
     ]
    },
    {
     "name": "stdout",
     "output_type": "stream",
     "text": [
      "Length of abilities entities: 52\n",
      "Length of noun phrase list: 145\n",
      "Length of abilities entities: 52\n",
      "Length of noun phrase list: 144\n",
      "Length of abilities entities: 52\n",
      "Length of noun phrase list: 108\n",
      "Length of abilities entities: 52\n",
      "Length of noun phrase list: 92\n"
     ]
    },
    {
     "name": "stderr",
     "output_type": "stream",
     "text": [
      "Matching for abilities:  74%|███████▍  | 68/92 [00:05<00:01, 12.34it/s]"
     ]
    },
    {
     "name": "stdout",
     "output_type": "stream",
     "text": [
      "Length of abilities entities: 52\n",
      "Length of noun phrase list: 149\n",
      "Length of abilities entities: 52\n",
      "Length of noun phrase list: 181\n",
      "Length of abilities entities: 52\n",
      "Length of noun phrase list: 134\n"
     ]
    },
    {
     "name": "stderr",
     "output_type": "stream",
     "text": [
      "Matching for abilities:  76%|███████▌  | 70/92 [00:05<00:01, 11.54it/s]"
     ]
    },
    {
     "name": "stdout",
     "output_type": "stream",
     "text": [
      "Length of abilities entities: 52\n",
      "Length of noun phrase list: 155\n",
      "Length of abilities entities: 52\n",
      "Length of noun phrase list: 134\n"
     ]
    },
    {
     "name": "stderr",
     "output_type": "stream",
     "text": [
      "Matching for abilities:  80%|████████  | 74/92 [00:05<00:01, 10.34it/s]"
     ]
    },
    {
     "name": "stdout",
     "output_type": "stream",
     "text": [
      "Length of abilities entities: 52\n",
      "Length of noun phrase list: 138\n",
      "Length of abilities entities: 52\n",
      "Length of noun phrase list: 161\n",
      "Length of abilities entities: 52\n",
      "Length of noun phrase list: 145\n"
     ]
    },
    {
     "name": "stderr",
     "output_type": "stream",
     "text": [
      "Matching for abilities:  83%|████████▎ | 76/92 [00:05<00:01, 10.74it/s]"
     ]
    },
    {
     "name": "stdout",
     "output_type": "stream",
     "text": [
      "Length of abilities entities: 52\n",
      "Length of noun phrase list: 89\n",
      "Length of abilities entities: 52\n",
      "Length of noun phrase list: 133\n",
      "Length of abilities entities: 52\n",
      "Length of noun phrase list: 145\n"
     ]
    },
    {
     "name": "stderr",
     "output_type": "stream",
     "text": [
      "Matching for abilities:  87%|████████▋ | 80/92 [00:06<00:00, 12.15it/s]"
     ]
    },
    {
     "name": "stdout",
     "output_type": "stream",
     "text": [
      "Length of abilities entities: 52\n",
      "Length of noun phrase list: 64\n",
      "Length of abilities entities: 52\n",
      "Length of noun phrase list: 45\n",
      "Length of abilities entities: 52\n",
      "Length of noun phrase list: 172\n"
     ]
    },
    {
     "name": "stderr",
     "output_type": "stream",
     "text": [
      "Matching for abilities:  91%|█████████▏| 84/92 [00:06<00:00, 14.07it/s]"
     ]
    },
    {
     "name": "stdout",
     "output_type": "stream",
     "text": [
      "Length of abilities entities: 52\n",
      "Length of noun phrase list: 123\n",
      "Length of abilities entities: 52\n",
      "Length of noun phrase list: 57\n",
      "Length of abilities entities: 52\n",
      "Length of noun phrase list: 49\n",
      "Length of abilities entities: 52\n",
      "Length of noun phrase list: 125\n"
     ]
    },
    {
     "name": "stderr",
     "output_type": "stream",
     "text": [
      "Matching for abilities:  96%|█████████▌| 88/92 [00:06<00:00, 15.35it/s]"
     ]
    },
    {
     "name": "stdout",
     "output_type": "stream",
     "text": [
      "Length of abilities entities: 52\n",
      "Length of noun phrase list: 125\n",
      "Length of abilities entities: 52\n",
      "Length of noun phrase list: 110\n",
      "Length of abilities entities: 52\n",
      "Length of noun phrase list: 81\n",
      "Length of abilities entities: 52\n",
      "Length of noun phrase list: 45\n"
     ]
    },
    {
     "name": "stderr",
     "output_type": "stream",
     "text": [
      "Matching for abilities: 100%|██████████| 92/92 [00:06<00:00, 13.25it/s]"
     ]
    },
    {
     "name": "stdout",
     "output_type": "stream",
     "text": [
      "Length of abilities entities: 52\n",
      "Length of noun phrase list: 112\n",
      "Length of abilities entities: 52\n",
      "Length of noun phrase list: 67\n",
      "Length of abilities entities: 52\n",
      "Length of noun phrase list: 64\n",
      "Length of abilities entities: 52\n",
      "Length of noun phrase list: 61\n"
     ]
    },
    {
     "name": "stderr",
     "output_type": "stream",
     "text": [
      "\n"
     ]
    }
   ],
   "source": [
    "# --------------------------------------------------\n",
    "# Entry point\n",
    "# --------------------------------------------------\n",
    "\n",
    "if __name__ == \"__main__\":\n",
    "    main()"
   ]
  },
  {
   "cell_type": "code",
   "execution_count": 4,
   "id": "657baeab-873e-4bd8-8bd4-6c344e8fbba9",
   "metadata": {},
   "outputs": [],
   "source": [
    "df_onet = pd.read_csv(\"../data/o_net_files/abilities.csv\")\n",
    "entity_values = df_onet[\"abilities_entity\"].dropna().drop_duplicates().tolist()\n",
    "# for j, entity in enumerate(entity_values):\n",
    "#     matched = df_onet[df_onet[\"abilities_entity\"] == entity].iloc[0]\n",
    "#     print(j, entity, matched[\"job_title\"])\n"
   ]
  },
  {
   "cell_type": "code",
   "execution_count": 10,
   "id": "e0dab1e2-2bb4-46dd-b3bb-ea1e58aa163c",
   "metadata": {},
   "outputs": [],
   "source": [
    "entity_values = df_onet.loc[df_onet.scale_name==\"Importance\", \"abilities_entity\"].dropna().drop_duplicates().tolist()"
   ]
  },
  {
   "cell_type": "code",
   "execution_count": 13,
   "id": "88896427-91f2-4f3f-b65c-34f0d971ec82",
   "metadata": {},
   "outputs": [
    {
     "data": {
      "text/html": [
       "<div>\n",
       "<style scoped>\n",
       "    .dataframe tbody tr th:only-of-type {\n",
       "        vertical-align: middle;\n",
       "    }\n",
       "\n",
       "    .dataframe tbody tr th {\n",
       "        vertical-align: top;\n",
       "    }\n",
       "\n",
       "    .dataframe thead th {\n",
       "        text-align: right;\n",
       "    }\n",
       "</style>\n",
       "<table border=\"1\" class=\"dataframe\">\n",
       "  <thead>\n",
       "    <tr style=\"text-align: right;\">\n",
       "      <th></th>\n",
       "      <th>onetsoc_code</th>\n",
       "      <th>job_title</th>\n",
       "      <th>abilities_entity</th>\n",
       "      <th>scale_name</th>\n",
       "      <th>scale_id</th>\n",
       "      <th>data_value</th>\n",
       "    </tr>\n",
       "  </thead>\n",
       "  <tbody>\n",
       "    <tr>\n",
       "      <th>0</th>\n",
       "      <td>11-1011.00</td>\n",
       "      <td>Chief Executives</td>\n",
       "      <td>Oral Comprehension</td>\n",
       "      <td>Importance</td>\n",
       "      <td>IM</td>\n",
       "      <td>4.62</td>\n",
       "    </tr>\n",
       "    <tr>\n",
       "      <th>1</th>\n",
       "      <td>11-1011.00</td>\n",
       "      <td>Chief Executives</td>\n",
       "      <td>Oral Comprehension</td>\n",
       "      <td>Level</td>\n",
       "      <td>LV</td>\n",
       "      <td>4.88</td>\n",
       "    </tr>\n",
       "    <tr>\n",
       "      <th>104</th>\n",
       "      <td>11-1011.03</td>\n",
       "      <td>Chief Sustainability Officers</td>\n",
       "      <td>Oral Comprehension</td>\n",
       "      <td>Importance</td>\n",
       "      <td>IM</td>\n",
       "      <td>4.00</td>\n",
       "    </tr>\n",
       "    <tr>\n",
       "      <th>105</th>\n",
       "      <td>11-1011.03</td>\n",
       "      <td>Chief Sustainability Officers</td>\n",
       "      <td>Oral Comprehension</td>\n",
       "      <td>Level</td>\n",
       "      <td>LV</td>\n",
       "      <td>4.62</td>\n",
       "    </tr>\n",
       "    <tr>\n",
       "      <th>208</th>\n",
       "      <td>11-1021.00</td>\n",
       "      <td>General and Operations Managers</td>\n",
       "      <td>Oral Comprehension</td>\n",
       "      <td>Importance</td>\n",
       "      <td>IM</td>\n",
       "      <td>4.00</td>\n",
       "    </tr>\n",
       "    <tr>\n",
       "      <th>...</th>\n",
       "      <td>...</td>\n",
       "      <td>...</td>\n",
       "      <td>...</td>\n",
       "      <td>...</td>\n",
       "      <td>...</td>\n",
       "      <td>...</td>\n",
       "    </tr>\n",
       "    <tr>\n",
       "      <th>91105</th>\n",
       "      <td>53-7073.00</td>\n",
       "      <td>Wellhead Pumpers</td>\n",
       "      <td>Oral Comprehension</td>\n",
       "      <td>Level</td>\n",
       "      <td>LV</td>\n",
       "      <td>2.88</td>\n",
       "    </tr>\n",
       "    <tr>\n",
       "      <th>91208</th>\n",
       "      <td>53-7081.00</td>\n",
       "      <td>Refuse and Recyclable Material Collectors</td>\n",
       "      <td>Oral Comprehension</td>\n",
       "      <td>Importance</td>\n",
       "      <td>IM</td>\n",
       "      <td>3.00</td>\n",
       "    </tr>\n",
       "    <tr>\n",
       "      <th>91209</th>\n",
       "      <td>53-7081.00</td>\n",
       "      <td>Refuse and Recyclable Material Collectors</td>\n",
       "      <td>Oral Comprehension</td>\n",
       "      <td>Level</td>\n",
       "      <td>LV</td>\n",
       "      <td>2.88</td>\n",
       "    </tr>\n",
       "    <tr>\n",
       "      <th>91312</th>\n",
       "      <td>53-7121.00</td>\n",
       "      <td>Tank Car, Truck, and Ship Loaders</td>\n",
       "      <td>Oral Comprehension</td>\n",
       "      <td>Importance</td>\n",
       "      <td>IM</td>\n",
       "      <td>3.25</td>\n",
       "    </tr>\n",
       "    <tr>\n",
       "      <th>91313</th>\n",
       "      <td>53-7121.00</td>\n",
       "      <td>Tank Car, Truck, and Ship Loaders</td>\n",
       "      <td>Oral Comprehension</td>\n",
       "      <td>Level</td>\n",
       "      <td>LV</td>\n",
       "      <td>3.38</td>\n",
       "    </tr>\n",
       "  </tbody>\n",
       "</table>\n",
       "<p>1758 rows × 6 columns</p>\n",
       "</div>"
      ],
      "text/plain": [
       "      onetsoc_code                                  job_title  \\\n",
       "0       11-1011.00                           Chief Executives   \n",
       "1       11-1011.00                           Chief Executives   \n",
       "104     11-1011.03              Chief Sustainability Officers   \n",
       "105     11-1011.03              Chief Sustainability Officers   \n",
       "208     11-1021.00            General and Operations Managers   \n",
       "...            ...                                        ...   \n",
       "91105   53-7073.00                           Wellhead Pumpers   \n",
       "91208   53-7081.00  Refuse and Recyclable Material Collectors   \n",
       "91209   53-7081.00  Refuse and Recyclable Material Collectors   \n",
       "91312   53-7121.00          Tank Car, Truck, and Ship Loaders   \n",
       "91313   53-7121.00          Tank Car, Truck, and Ship Loaders   \n",
       "\n",
       "         abilities_entity  scale_name scale_id  data_value  \n",
       "0      Oral Comprehension  Importance       IM        4.62  \n",
       "1      Oral Comprehension       Level       LV        4.88  \n",
       "104    Oral Comprehension  Importance       IM        4.00  \n",
       "105    Oral Comprehension       Level       LV        4.62  \n",
       "208    Oral Comprehension  Importance       IM        4.00  \n",
       "...                   ...         ...      ...         ...  \n",
       "91105  Oral Comprehension       Level       LV        2.88  \n",
       "91208  Oral Comprehension  Importance       IM        3.00  \n",
       "91209  Oral Comprehension       Level       LV        2.88  \n",
       "91312  Oral Comprehension  Importance       IM        3.25  \n",
       "91313  Oral Comprehension       Level       LV        3.38  \n",
       "\n",
       "[1758 rows x 6 columns]"
      ]
     },
     "execution_count": 13,
     "metadata": {},
     "output_type": "execute_result"
    }
   ],
   "source": [
    "df_onet[df_onet[\"abilities_entity\"] == \"Oral Comprehension\"]"
   ]
  }
 ],
 "metadata": {
  "kernelspec": {
   "display_name": "Python 3 (ipykernel)",
   "language": "python",
   "name": "python3"
  },
  "language_info": {
   "codemirror_mode": {
    "name": "ipython",
    "version": 3
   },
   "file_extension": ".py",
   "mimetype": "text/x-python",
   "name": "python",
   "nbconvert_exporter": "python",
   "pygments_lexer": "ipython3",
   "version": "3.11.10"
  }
 },
 "nbformat": 4,
 "nbformat_minor": 5
}
