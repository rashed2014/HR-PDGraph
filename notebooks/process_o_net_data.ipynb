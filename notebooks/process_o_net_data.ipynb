{
 "cells": [
  {
   "cell_type": "markdown",
   "id": "3bf8bbd0-887e-4df7-a9f7-3ef3ba5a688a",
   "metadata": {},
   "source": [
    "### Data Exploration\n",
    "\n",
    "The research paper uses sentence embedding on noun and noun phrases. This analysis is to see of other modern approaches can reach same or better score. Ultimately, we want to see if the new approach at least mataches the high scores annotated. \n",
    "\n",
    "1. Compare embedding of entire resume to individual entities of a category. Expect sim,ilarity to be less than the research paper\n",
    "2. Colbert index and search. "
   ]
  },
  {
   "cell_type": "code",
   "execution_count": 4,
   "id": "0c245f36-49ba-4ef3-b96f-1e681f581b7b",
   "metadata": {},
   "outputs": [],
   "source": [
    "import pandas as pd\n",
    "import json\n",
    "import os"
   ]
  },
  {
   "cell_type": "code",
   "execution_count": 8,
   "id": "e7971d06-8055-401e-b662-9459fe08b44c",
   "metadata": {},
   "outputs": [],
   "source": [
    "data_dir = \"../data/o_net_files/\""
   ]
  },
  {
   "cell_type": "markdown",
   "id": "54c1b484-7248-4200-bcca-88aa2cd38bdc",
   "metadata": {},
   "source": [
    "### Run the following code for O*Net Knowledge, Skill, Abilities and Work Activities (KSA&W) Excels to CSV\n",
    "\n",
    "\n"
   ]
  },
  {
   "cell_type": "code",
   "execution_count": 11,
   "id": "88b12499-4dcd-4756-b61d-69186d47d9cf",
   "metadata": {},
   "outputs": [],
   "source": [
    "import os\n",
    "import pandas as pd\n",
    "\n",
    "def process_onet_excel_to_csv(filename, data_dir):\n",
    "    \"\"\"\n",
    "    Processes an O*NET Excel file by selecting and renaming specific columns,\n",
    "    then saves it as a CSV in the same directory with the same base filename.\n",
    "\n",
    "    The 'Element Name' column will be renamed based on the file name:\n",
    "    - 'Knowledge.xlsx' → 'knowledge_entity'\n",
    "    - 'Skills.xlsx' → 'skills_entity'\n",
    "    - etc.\n",
    "    \"\"\"\n",
    "    full_path = os.path.join(data_dir, filename)\n",
    "    df_onet = pd.read_excel(full_path)\n",
    "\n",
    "    # Select relevant columns\n",
    "    df_onet = df_onet[[\n",
    "        \"O*NET-SOC Code\", \"Title\", \"Element Name\", \n",
    "        \"Scale Name\", \"Scale ID\", \"Data Value\"\n",
    "    ]]\n",
    "\n",
    "    # Infer the entity type from the filename\n",
    "    base_name = os.path.splitext(filename)[0].lower()  # e.g., \"knowledge\"\n",
    "    entity_col_name = f\"{base_name}_entity\"\n",
    "\n",
    "    # Rename columns\n",
    "    df_onet.rename(columns={\n",
    "        \"O*NET-SOC Code\": \"onetsoc_code\",\n",
    "        \"Title\": \"job_title\",\n",
    "        \"Element Name\": entity_col_name,\n",
    "        \"Scale ID\": \"scale_id\",\n",
    "        \"Scale Name\": \"scale_name\",\n",
    "        \"Data Value\": \"data_value\"\n",
    "    }, inplace=True)\n",
    "\n",
    "    # Save CSV\n",
    "    output_path = os.path.join(data_dir, f\"{base_name}.csv\")\n",
    "    df_onet.to_csv(output_path, index=False)\n",
    "    print(f\"✅ Processed and saved: {output_path}\")\n"
   ]
  },
  {
   "cell_type": "code",
   "execution_count": 13,
   "id": "5dc7e3f2-b3ed-43ed-a1cd-874824e2785a",
   "metadata": {},
   "outputs": [
    {
     "name": "stdout",
     "output_type": "stream",
     "text": [
      "✅ Processed and saved: ../data/o_net_files/knowledge.csv\n",
      "✅ Processed and saved: ../data/o_net_files/skills.csv\n",
      "✅ Processed and saved: ../data/o_net_files/work_activities.csv\n",
      "✅ Processed and saved: ../data/o_net_files/abilities.csv\n"
     ]
    }
   ],
   "source": [
    "#  Process all Excel files in a directory\n",
    "for file in os.listdir(data_dir):\n",
    "    if file.endswith(\".xlsx\"):\n",
    "        process_onet_excel_to_csv(file, data_dir)\n"
   ]
  },
  {
   "cell_type": "markdown",
   "id": "69182a26-6e2b-4504-82bf-750898392c37",
   "metadata": {},
   "source": [
    "### Run the following to convert O*Net Occupation Excel to CSV\n",
    "\n",
    "This is optional - in case we want to see relationship with the occupation data"
   ]
  },
  {
   "cell_type": "code",
   "execution_count": null,
   "id": "d168eddf-3aec-48b8-b1a2-bd481f04f7a4",
   "metadata": {},
   "outputs": [],
   "source": [
    "# # Load the O*NET Occupation Excel file\n",
    "# occupation_file = \"data/annotations_scenario_1/Occupation Data.xlsx\"  # Update with the actual filename\n",
    "\n",
    "# df_occupation = pd.read_excel(occupation_file)\n",
    "\n",
    "# # Select relevant columns\n",
    "# df_occupation = df_occupation[[\"O*NET-SOC Code\", \"Title\", \"Description\"]]\n",
    "\n",
    "# # Rename columns for consistency\n",
    "# df_occupation.rename(columns={\n",
    "#     \"O*NET-SOC Code\": \"onetsoc_code\",\n",
    "#     \"Title\": \"job_title\",\n",
    "#     \"Description\": \"job_description\"\n",
    "# }, inplace=True)\n",
    "\n",
    "# # Display the first few rows\n",
    "# print(df_occupation.head())\n",
    "\n",
    "# # Save to CSV for further inspection (optional)\n",
    "# df_occupation.to_csv(\"data/annotations_scenario_1/processed_onet_occupation.csv\", index=False)\n"
   ]
  }
 ],
 "metadata": {
  "kernelspec": {
   "display_name": "Python 3 (ipykernel)",
   "language": "python",
   "name": "python3"
  },
  "language_info": {
   "codemirror_mode": {
    "name": "ipython",
    "version": 3
   },
   "file_extension": ".py",
   "mimetype": "text/x-python",
   "name": "python",
   "nbconvert_exporter": "python",
   "pygments_lexer": "ipython3",
   "version": "3.11.10"
  }
 },
 "nbformat": 4,
 "nbformat_minor": 5
}
