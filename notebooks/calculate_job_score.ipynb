{
 "cells": [
  {
   "cell_type": "code",
   "execution_count": null,
   "id": "24b2b680-50a3-4899-8a8f-df0207b2dbf9",
   "metadata": {},
   "outputs": [],
   "source": []
  },
  {
   "cell_type": "markdown",
   "id": "74d982e3-4359-46dd-ab2b-81fef452c646",
   "metadata": {},
   "source": [
    "# Job Scoring Calculation using Neo4j and Python\n",
    "\n",
    "This notebook guides you through calculating a comprehensive job matching score based on semantic similarity from a Neo4j graph database, focusing specifically on one resume (`community_id=801`).\n",
    "\n",
    "---\n",
    "\n",
    "## 📌 Step 1: Setup Neo4j Connection in Python\n",
    "\n",
    "First, establish a connection from your notebook to the Neo4j database.\n",
    "\n",
    "### Python code:\n",
    "\n"
   ]
  },
  {
   "cell_type": "code",
   "execution_count": 3,
   "id": "3c86946d-46f3-4fe6-8790-dc46c6041bda",
   "metadata": {},
   "outputs": [],
   "source": [
    "\n",
    "from neo4j import GraphDatabase\n",
    "import pandas as pd\n",
    "\n",
    "# Connect to Neo4j\n",
    "uri = \"neo4j://20.14.162.151:7687\"  # Replace with your Neo4j instance URI\n",
    "username = \"neo4j\"              # Your username\n",
    "password = \"recluse2025\"      # Your password\n",
    "\n",
    "driver = GraphDatabase.driver(uri, auth=(username, password))\n",
    "\n",
    "# Function to run Cypher query\n",
    "def run_query(query, parameters=None):\n",
    "    with driver.session() as session:\n",
    "        result = session.run(query, parameters)\n",
    "        return pd.DataFrame(result.data())\n"
   ]
  },
  {
   "cell_type": "markdown",
   "id": "6378df57-d20d-4376-8261-9a5391c8f71e",
   "metadata": {},
   "source": [
    "## 📌 Step 2: Select a resume form a trait cluster\n",
    "\n",
    "For this experiment, we will select a STEM-heavy cluster"
   ]
  },
  {
   "cell_type": "code",
   "execution_count": 4,
   "id": "8c3a8fe3-0d67-4239-ae44-a05decf94780",
   "metadata": {},
   "outputs": [
    {
     "data": {
      "text/html": [
       "<div>\n",
       "<style scoped>\n",
       "    .dataframe tbody tr th:only-of-type {\n",
       "        vertical-align: middle;\n",
       "    }\n",
       "\n",
       "    .dataframe tbody tr th {\n",
       "        vertical-align: top;\n",
       "    }\n",
       "\n",
       "    .dataframe thead th {\n",
       "        text-align: right;\n",
       "    }\n",
       "</style>\n",
       "<table border=\"1\" class=\"dataframe\">\n",
       "  <thead>\n",
       "    <tr style=\"text-align: right;\">\n",
       "      <th></th>\n",
       "      <th>resume_id</th>\n",
       "      <th>original_job</th>\n",
       "      <th>community_id</th>\n",
       "      <th>community_label</th>\n",
       "      <th>resume_text</th>\n",
       "    </tr>\n",
       "  </thead>\n",
       "  <tbody>\n",
       "    <tr>\n",
       "      <th>0</th>\n",
       "      <td>426f2186-c78b-4a2d-81df-c8307ace8747</td>\n",
       "      <td>Java Developer</td>\n",
       "      <td>801</td>\n",
       "      <td>STEM-heavy</td>\n",
       "      <td>TECHNICAL STRENGTHS Computer Language Java / J...</td>\n",
       "    </tr>\n",
       "  </tbody>\n",
       "</table>\n",
       "</div>"
      ],
      "text/plain": [
       "                              resume_id    original_job  community_id  \\\n",
       "0  426f2186-c78b-4a2d-81df-c8307ace8747  Java Developer           801   \n",
       "\n",
       "  community_label                                        resume_text  \n",
       "0      STEM-heavy  TECHNICAL STRENGTHS Computer Language Java / J...  "
      ]
     },
     "metadata": {},
     "output_type": "display_data"
    }
   ],
   "source": [
    "query_resume = \"\"\"\n",
    "MATCH (r:Resume)\n",
    "WHERE r.community_id = 801\n",
    "RETURN r.id AS resume_id, r.original_job AS original_job, r.community_id AS community_id, r.community_label AS community_label,\n",
    "r.resume_text AS resume_text\n",
    "\"\"\"\n",
    "resume_df = run_query(query_resume)\n",
    "display(resume_df)\n"
   ]
  },
  {
   "cell_type": "code",
   "execution_count": 18,
   "id": "b95ca81a-1cf2-46a7-80d1-09f1d12e13a4",
   "metadata": {},
   "outputs": [
    {
     "data": {
      "application/vnd.jupyter.widget-view+json": {
       "model_id": "18e9e50ad65544d98902a0f8adb81eb1",
       "version_major": 2,
       "version_minor": 0
      },
      "text/plain": [
       "modules.json:   0%|          | 0.00/349 [00:00<?, ?B/s]"
      ]
     },
     "metadata": {},
     "output_type": "display_data"
    },
    {
     "data": {
      "application/vnd.jupyter.widget-view+json": {
       "model_id": "defa30273e614b47bc6c6d2c4d975caa",
       "version_major": 2,
       "version_minor": 0
      },
      "text/plain": [
       "config_sentence_transformers.json:   0%|          | 0.00/116 [00:00<?, ?B/s]"
      ]
     },
     "metadata": {},
     "output_type": "display_data"
    },
    {
     "data": {
      "application/vnd.jupyter.widget-view+json": {
       "model_id": "4d05461626e24907847838b718eb7db7",
       "version_major": 2,
       "version_minor": 0
      },
      "text/plain": [
       "README.md:   0%|          | 0.00/10.4k [00:00<?, ?B/s]"
      ]
     },
     "metadata": {},
     "output_type": "display_data"
    },
    {
     "data": {
      "application/vnd.jupyter.widget-view+json": {
       "model_id": "4fd2d875f72f4087bf1a9bf714042640",
       "version_major": 2,
       "version_minor": 0
      },
      "text/plain": [
       "sentence_bert_config.json:   0%|          | 0.00/53.0 [00:00<?, ?B/s]"
      ]
     },
     "metadata": {},
     "output_type": "display_data"
    },
    {
     "data": {
      "application/vnd.jupyter.widget-view+json": {
       "model_id": "6e9e85aa2f4b4f3b840de0940f324122",
       "version_major": 2,
       "version_minor": 0
      },
      "text/plain": [
       "config.json:   0%|          | 0.00/571 [00:00<?, ?B/s]"
      ]
     },
     "metadata": {},
     "output_type": "display_data"
    },
    {
     "data": {
      "application/vnd.jupyter.widget-view+json": {
       "model_id": "8ae54bb5639746ce99428b32211fdb19",
       "version_major": 2,
       "version_minor": 0
      },
      "text/plain": [
       "model.safetensors:   0%|          | 0.00/438M [00:00<?, ?B/s]"
      ]
     },
     "metadata": {},
     "output_type": "display_data"
    },
    {
     "data": {
      "application/vnd.jupyter.widget-view+json": {
       "model_id": "11b24e0378264a57b0b2ab3ee73697bd",
       "version_major": 2,
       "version_minor": 0
      },
      "text/plain": [
       "tokenizer_config.json:   0%|          | 0.00/363 [00:00<?, ?B/s]"
      ]
     },
     "metadata": {},
     "output_type": "display_data"
    },
    {
     "data": {
      "application/vnd.jupyter.widget-view+json": {
       "model_id": "fe37c8e12abe4d84b67ea658dee5c4c3",
       "version_major": 2,
       "version_minor": 0
      },
      "text/plain": [
       "vocab.txt:   0%|          | 0.00/232k [00:00<?, ?B/s]"
      ]
     },
     "metadata": {},
     "output_type": "display_data"
    },
    {
     "data": {
      "application/vnd.jupyter.widget-view+json": {
       "model_id": "95ff30f38a334cd9ae0a12b759fb5a8f",
       "version_major": 2,
       "version_minor": 0
      },
      "text/plain": [
       "tokenizer.json:   0%|          | 0.00/466k [00:00<?, ?B/s]"
      ]
     },
     "metadata": {},
     "output_type": "display_data"
    },
    {
     "data": {
      "application/vnd.jupyter.widget-view+json": {
       "model_id": "b3b8dcf624cf4dc5bef3b477c9d2869b",
       "version_major": 2,
       "version_minor": 0
      },
      "text/plain": [
       "special_tokens_map.json:   0%|          | 0.00/239 [00:00<?, ?B/s]"
      ]
     },
     "metadata": {},
     "output_type": "display_data"
    },
    {
     "data": {
      "application/vnd.jupyter.widget-view+json": {
       "model_id": "a24e06489300405abfb2349e9b185a37",
       "version_major": 2,
       "version_minor": 0
      },
      "text/plain": [
       "config.json:   0%|          | 0.00/190 [00:00<?, ?B/s]"
      ]
     },
     "metadata": {},
     "output_type": "display_data"
    }
   ],
   "source": [
    "from sentence_transformers import SentenceTransformer\n",
    "import numpy as np\n",
    "model_name = \"all-mpnet-base-v2\" \n",
    "model = SentenceTransformer('sentence-transformers/all-mpnet-base-v2')\n"
   ]
  },
  {
   "cell_type": "code",
   "execution_count": 19,
   "id": "69933746-0093-4de4-b1ad-0ae26050175d",
   "metadata": {},
   "outputs": [
    {
     "name": "stdout",
     "output_type": "stream",
     "text": [
      "Resume Text:\n",
      " TECHNICAL STRENGTHS Computer Language Java / J2EE, Swift, HTML, Shell script, MySQL Databases MySQL Tools SVN, Jenkins, Hudson, Weblogic12c Software Android Studio, Eclipse, Oracle, Xcode Operating Systems Win 10, Mac ( High Sierra ) Education Details June 2016 B. E. Information Technology Goregaon, MAHARASHTRA, IN Vidyalankar Institute of Technology May 2013 Mumbai, Maharashtra Thakur Polytechnic May 2010 Mumbai, Maharashtra St. John's Universal School Java developer Java developer - Tech Mahindra Skill Details JAVA- Exprience - 21 months MYSQL- Exprience - 21 months DATABASES- Exprience - 17 months J2EE- Exprience - 17 months ANDROID- Exprience - 6 monthsCompany Details company - Tech Mahindra description - Team Size: 5 Environment: Java, Mysql, Shell script. Webserver: Jenkins. Description: OR-Formatter is an application which takes the input file as Geneva Modified File GMF from Geneva server and reads the data to generate Bill backup and Bill Invoices for Client customers of BT. These invoices would be sent across to all the clients after billing. Contribution: Played the role of Java developer involved in applying change request to current modules. Worked on requirement analysis and development for the user stories and also preformed dev unit testing for the user stories. Handled E2E issues and fixing bugs. Prepare required program level and user-level documentation. company - Tech Mahindra description - Team Size: 5 Environment: Java EJB, Mysql, Shell script. Webserver: Weblogic12c Server, Jenkins. Description: STAA is an encapsulation middleware layer, acting as an interface between client's operational support systems and Legacy systems. It transforms the legacy data into various formats such as TLV. Input is in form xml / http to STAA where validations are done and the response is sent to the back end systems where back end systems are CSS and COSMOSS Databases. The business methods deployed as EJBs on WebLogic Server shared across various market facing units of client. Contribution: Played the role of Java developer involved in creating services using Java / J2EE. Worked on requirement analysis and development for the user stories and also preformed dev unit testing for the user stories. Handled E2E issues and fixing bugs. Worked in Migration from java 1. 6 to java 1. 8. \n"
     ]
    }
   ],
   "source": [
    "#get the \n",
    "\n",
    "from textblob import TextBlob\n",
    "\n",
    "# Assuming resume_df already has the data\n",
    "resume_text = resume_df.iloc[0]['resume_text']\n",
    "print(\"Resume Text:\\n\", resume_text)\n"
   ]
  },
  {
   "cell_type": "code",
   "execution_count": 20,
   "id": "e0f19375-bcef-4969-9518-9bf834ea8d02",
   "metadata": {},
   "outputs": [
    {
     "name": "stdout",
     "output_type": "stream",
     "text": [
      "Text length: 345 words\n",
      "Sentences count: 20\n"
     ]
    }
   ],
   "source": [
    "blob = TextBlob(resume_text)\n",
    "\n",
    "# Inspecting basic information\n",
    "print(f\"Text length: {len(blob.words)} words\")\n",
    "print(f\"Sentences count: {len(blob.sentences)}\")\n"
   ]
  },
  {
   "cell_type": "code",
   "execution_count": 21,
   "id": "d230758b-51be-4b57-ac19-49027e623987",
   "metadata": {},
   "outputs": [
    {
     "name": "stdout",
     "output_type": "stream",
     "text": [
      "Noun phrases found (104):\n",
      "\n",
      "- technical strengths computer language java\n",
      "- j2ee\n",
      "- swift\n",
      "- html\n",
      "- shell\n",
      "- mysql databases mysql tools svn\n",
      "- jenkins\n",
      "- hudson\n",
      "- weblogic12c software android\n",
      "- eclipse\n",
      "- oracle\n",
      "- xcode\n",
      "- systems win\n",
      "- mac\n",
      "- sierra\n",
      "- details june\n",
      "- b. e. information\n",
      "- goregaon\n",
      "- maharashtra\n",
      "- in vidyalankar\n",
      "- may\n",
      "- mumbai\n",
      "- maharashtra thakur\n",
      "- may\n",
      "- mumbai\n",
      "- maharashtra\n",
      "- john\n",
      "- universal\n",
      "- java\n",
      "- java\n",
      "- tech mahindra skill details java- exprience\n",
      "- mysql- exprience\n",
      "- databases- exprience\n",
      "- j2ee- exprience\n",
      "- android- exprience\n",
      "- details\n",
      "- tech mahindra\n",
      "- team size\n",
      "- environment\n",
      "- java\n",
      "- mysql\n",
      "- shell\n",
      "- webserver\n",
      "- jenkins\n",
      "- description\n",
      "- or-formatter\n",
      "- input file\n",
      "- geneva modified file gmf\n",
      "- geneva\n",
      "- bill\n",
      "- bill invoices\n",
      "- client\n",
      "- bt\n",
      "- played\n",
      "- java\n",
      "- current modules\n",
      "- worked\n",
      "- requirement analysis\n",
      "- user stories\n",
      "- dev unit\n",
      "- user stories\n",
      "- handled e2e\n",
      "- prepare\n",
      "- program level\n",
      "- user-level documentation\n",
      "- tech mahindra\n",
      "- team size\n",
      "- environment\n",
      "- java ejb\n",
      "- mysql\n",
      "- shell\n",
      "- webserver\n",
      "- weblogic12c server\n",
      "- jenkins\n",
      "- description\n",
      "- staa\n",
      "- encapsulation middleware layer\n",
      "- client 's operational support systems\n",
      "- legacy\n",
      "- legacy data\n",
      "- various formats\n",
      "- tlv\n",
      "- input\n",
      "- form xml / http\n",
      "- staa\n",
      "- back end systems\n",
      "- css\n",
      "- cosmoss databases\n",
      "- business methods\n",
      "- ejbs\n",
      "- weblogic server\n",
      "- various market\n",
      "- played\n",
      "- java\n",
      "- java\n",
      "- j2ee\n",
      "- worked\n",
      "- requirement analysis\n",
      "- user stories\n",
      "- dev unit\n",
      "- user stories\n",
      "- handled e2e\n",
      "- worked\n",
      "- migration\n"
     ]
    }
   ],
   "source": [
    "noun_phrases = blob.noun_phrases\n",
    "print(f\"Noun phrases found ({len(noun_phrases)}):\\n\")\n",
    "for np in noun_phrases:\n",
    "    print(\"-\", np)\n"
   ]
  },
  {
   "cell_type": "code",
   "execution_count": 30,
   "id": "160ad66f-8d6e-4525-a11c-7ecb74515753",
   "metadata": {},
   "outputs": [
    {
     "data": {
      "text/plain": [
       "37"
      ]
     },
     "execution_count": 30,
     "metadata": {},
     "output_type": "execute_result"
    }
   ],
   "source": [
    "noun_phrases.index(\"team size\")"
   ]
  },
  {
   "cell_type": "code",
   "execution_count": 23,
   "id": "8e2f724b-cd68-4ea6-9683-30154c28fc88",
   "metadata": {},
   "outputs": [],
   "source": [
    "# Define the query to retrieve entities from Neo4j\n",
    "query_entities = \"\"\"\n",
    "MATCH (entity)\n",
    "WHERE entity:Knowledge OR entity:Abilities OR entity:Skills OR entity:Work_activities\n",
    "RETURN labels(entity)[0] AS entity_type, entity.text AS entity_text\n",
    "ORDER BY entity_type, entity_text\n",
    "\"\"\"\n",
    "\n",
    "# Execute the query\n",
    "entities_df = run_query(query_entities)\n"
   ]
  },
  {
   "cell_type": "code",
   "execution_count": 24,
   "id": "6d5957b6-5a1b-40ca-a90b-ed6c025b70e3",
   "metadata": {},
   "outputs": [
    {
     "data": {
      "text/html": [
       "<div>\n",
       "<style scoped>\n",
       "    .dataframe tbody tr th:only-of-type {\n",
       "        vertical-align: middle;\n",
       "    }\n",
       "\n",
       "    .dataframe tbody tr th {\n",
       "        vertical-align: top;\n",
       "    }\n",
       "\n",
       "    .dataframe thead th {\n",
       "        text-align: right;\n",
       "    }\n",
       "</style>\n",
       "<table border=\"1\" class=\"dataframe\">\n",
       "  <thead>\n",
       "    <tr style=\"text-align: right;\">\n",
       "      <th></th>\n",
       "      <th>noun_phrase</th>\n",
       "      <th>embedding</th>\n",
       "    </tr>\n",
       "  </thead>\n",
       "  <tbody>\n",
       "    <tr>\n",
       "      <th>0</th>\n",
       "      <td>technical strengths computer language java</td>\n",
       "      <td>[-0.0045953733, -0.051126696, -0.04391737, -0....</td>\n",
       "    </tr>\n",
       "    <tr>\n",
       "      <th>1</th>\n",
       "      <td>j2ee</td>\n",
       "      <td>[0.02439166, 0.06157444, 0.026841352, -0.01565...</td>\n",
       "    </tr>\n",
       "    <tr>\n",
       "      <th>2</th>\n",
       "      <td>swift</td>\n",
       "      <td>[0.035363823, -0.010278737, -0.021040538, -0.0...</td>\n",
       "    </tr>\n",
       "    <tr>\n",
       "      <th>3</th>\n",
       "      <td>html</td>\n",
       "      <td>[0.02712843, -0.024502028, -0.009735838, -0.00...</td>\n",
       "    </tr>\n",
       "    <tr>\n",
       "      <th>4</th>\n",
       "      <td>shell</td>\n",
       "      <td>[-0.01905843, -0.06412493, -0.018446606, 0.009...</td>\n",
       "    </tr>\n",
       "  </tbody>\n",
       "</table>\n",
       "</div>"
      ],
      "text/plain": [
       "                                  noun_phrase  \\\n",
       "0  technical strengths computer language java   \n",
       "1                                        j2ee   \n",
       "2                                       swift   \n",
       "3                                        html   \n",
       "4                                       shell   \n",
       "\n",
       "                                           embedding  \n",
       "0  [-0.0045953733, -0.051126696, -0.04391737, -0....  \n",
       "1  [0.02439166, 0.06157444, 0.026841352, -0.01565...  \n",
       "2  [0.035363823, -0.010278737, -0.021040538, -0.0...  \n",
       "3  [0.02712843, -0.024502028, -0.009735838, -0.00...  \n",
       "4  [-0.01905843, -0.06412493, -0.018446606, 0.009...  "
      ]
     },
     "execution_count": 24,
     "metadata": {},
     "output_type": "execute_result"
    }
   ],
   "source": [
    "# Create embeddings for each noun phrase\n",
    "noun_phrase_embeddings = [model.encode(np) for np in noun_phrases]\n",
    "\n",
    "# Create DataFrame\n",
    "nounphrase_df = pd.DataFrame({\n",
    "    'noun_phrase': noun_phrases,\n",
    "    'embedding': noun_phrase_embeddings\n",
    "})\n",
    "nounphrase_df.head()"
   ]
  },
  {
   "cell_type": "code",
   "execution_count": 25,
   "id": "6e72d6fb-1318-4d95-8578-d533b1ed9048",
   "metadata": {},
   "outputs": [
    {
     "data": {
      "text/html": [
       "<div>\n",
       "<style scoped>\n",
       "    .dataframe tbody tr th:only-of-type {\n",
       "        vertical-align: middle;\n",
       "    }\n",
       "\n",
       "    .dataframe tbody tr th {\n",
       "        vertical-align: top;\n",
       "    }\n",
       "\n",
       "    .dataframe thead th {\n",
       "        text-align: right;\n",
       "    }\n",
       "</style>\n",
       "<table border=\"1\" class=\"dataframe\">\n",
       "  <thead>\n",
       "    <tr style=\"text-align: right;\">\n",
       "      <th></th>\n",
       "      <th>entity_type</th>\n",
       "      <th>entity_text</th>\n",
       "    </tr>\n",
       "  </thead>\n",
       "  <tbody>\n",
       "    <tr>\n",
       "      <th>0</th>\n",
       "      <td>Abilities</td>\n",
       "      <td>Category Flexibility</td>\n",
       "    </tr>\n",
       "    <tr>\n",
       "      <th>1</th>\n",
       "      <td>Abilities</td>\n",
       "      <td>Dynamic Flexibility</td>\n",
       "    </tr>\n",
       "    <tr>\n",
       "      <th>2</th>\n",
       "      <td>Abilities</td>\n",
       "      <td>Dynamic Strength</td>\n",
       "    </tr>\n",
       "    <tr>\n",
       "      <th>3</th>\n",
       "      <td>Abilities</td>\n",
       "      <td>Explosive Strength</td>\n",
       "    </tr>\n",
       "    <tr>\n",
       "      <th>4</th>\n",
       "      <td>Abilities</td>\n",
       "      <td>Extent Flexibility</td>\n",
       "    </tr>\n",
       "    <tr>\n",
       "      <th>5</th>\n",
       "      <td>Abilities</td>\n",
       "      <td>Fluency of Ideas</td>\n",
       "    </tr>\n",
       "    <tr>\n",
       "      <th>6</th>\n",
       "      <td>Abilities</td>\n",
       "      <td>Memorization</td>\n",
       "    </tr>\n",
       "    <tr>\n",
       "      <th>7</th>\n",
       "      <td>Abilities</td>\n",
       "      <td>Multilimb Coordination</td>\n",
       "    </tr>\n",
       "    <tr>\n",
       "      <th>8</th>\n",
       "      <td>Abilities</td>\n",
       "      <td>Number Facility</td>\n",
       "    </tr>\n",
       "    <tr>\n",
       "      <th>9</th>\n",
       "      <td>Abilities</td>\n",
       "      <td>Oral Expression</td>\n",
       "    </tr>\n",
       "    <tr>\n",
       "      <th>10</th>\n",
       "      <td>Abilities</td>\n",
       "      <td>Peripheral Vision</td>\n",
       "    </tr>\n",
       "    <tr>\n",
       "      <th>11</th>\n",
       "      <td>Abilities</td>\n",
       "      <td>Rate Control</td>\n",
       "    </tr>\n",
       "    <tr>\n",
       "      <th>12</th>\n",
       "      <td>Abilities</td>\n",
       "      <td>Time Sharing</td>\n",
       "    </tr>\n",
       "    <tr>\n",
       "      <th>13</th>\n",
       "      <td>Abilities</td>\n",
       "      <td>Visualization</td>\n",
       "    </tr>\n",
       "    <tr>\n",
       "      <th>14</th>\n",
       "      <td>Knowledge</td>\n",
       "      <td>Administration and Management</td>\n",
       "    </tr>\n",
       "    <tr>\n",
       "      <th>15</th>\n",
       "      <td>Knowledge</td>\n",
       "      <td>Administrative</td>\n",
       "    </tr>\n",
       "    <tr>\n",
       "      <th>16</th>\n",
       "      <td>Knowledge</td>\n",
       "      <td>Building and Construction</td>\n",
       "    </tr>\n",
       "    <tr>\n",
       "      <th>17</th>\n",
       "      <td>Knowledge</td>\n",
       "      <td>Chemistry</td>\n",
       "    </tr>\n",
       "    <tr>\n",
       "      <th>18</th>\n",
       "      <td>Knowledge</td>\n",
       "      <td>Communications and Media</td>\n",
       "    </tr>\n",
       "    <tr>\n",
       "      <th>19</th>\n",
       "      <td>Knowledge</td>\n",
       "      <td>Computers and Electronics</td>\n",
       "    </tr>\n",
       "  </tbody>\n",
       "</table>\n",
       "</div>"
      ],
      "text/plain": [
       "   entity_type                    entity_text\n",
       "0    Abilities           Category Flexibility\n",
       "1    Abilities            Dynamic Flexibility\n",
       "2    Abilities               Dynamic Strength\n",
       "3    Abilities             Explosive Strength\n",
       "4    Abilities             Extent Flexibility\n",
       "5    Abilities               Fluency of Ideas\n",
       "6    Abilities                   Memorization\n",
       "7    Abilities         Multilimb Coordination\n",
       "8    Abilities                Number Facility\n",
       "9    Abilities                Oral Expression\n",
       "10   Abilities              Peripheral Vision\n",
       "11   Abilities                   Rate Control\n",
       "12   Abilities                   Time Sharing\n",
       "13   Abilities                  Visualization\n",
       "14   Knowledge  Administration and Management\n",
       "15   Knowledge                 Administrative\n",
       "16   Knowledge      Building and Construction\n",
       "17   Knowledge                      Chemistry\n",
       "18   Knowledge       Communications and Media\n",
       "19   Knowledge      Computers and Electronics"
      ]
     },
     "metadata": {},
     "output_type": "display_data"
    }
   ],
   "source": [
    "display(entities_df.head(20))"
   ]
  },
  {
   "cell_type": "code",
   "execution_count": 26,
   "id": "7c70b91c-eb2a-4731-817e-434a4784b89a",
   "metadata": {},
   "outputs": [
    {
     "name": "stdout",
     "output_type": "stream",
     "text": [
      "<class 'pandas.core.frame.DataFrame'>\n",
      "RangeIndex: 104 entries, 0 to 103\n",
      "Data columns (total 2 columns):\n",
      " #   Column       Non-Null Count  Dtype \n",
      "---  ------       --------------  ----- \n",
      " 0   noun_phrase  104 non-null    object\n",
      " 1   embedding    104 non-null    object\n",
      "dtypes: object(2)\n",
      "memory usage: 1.8+ KB\n"
     ]
    }
   ],
   "source": [
    "nounphrase_df.info()"
   ]
  },
  {
   "cell_type": "code",
   "execution_count": 27,
   "id": "be372f2e-4896-45a0-ad7e-ff9652e24691",
   "metadata": {},
   "outputs": [
    {
     "data": {
      "text/html": [
       "<div>\n",
       "<style scoped>\n",
       "    .dataframe tbody tr th:only-of-type {\n",
       "        vertical-align: middle;\n",
       "    }\n",
       "\n",
       "    .dataframe tbody tr th {\n",
       "        vertical-align: top;\n",
       "    }\n",
       "\n",
       "    .dataframe thead th {\n",
       "        text-align: right;\n",
       "    }\n",
       "</style>\n",
       "<table border=\"1\" class=\"dataframe\">\n",
       "  <thead>\n",
       "    <tr style=\"text-align: right;\">\n",
       "      <th></th>\n",
       "      <th>entity_type</th>\n",
       "      <th>entity_text</th>\n",
       "      <th>entity_embeddings</th>\n",
       "    </tr>\n",
       "  </thead>\n",
       "  <tbody>\n",
       "    <tr>\n",
       "      <th>0</th>\n",
       "      <td>Abilities</td>\n",
       "      <td>Category Flexibility</td>\n",
       "      <td>[0.05120196, 0.09744891, -0.0618364, -0.022522...</td>\n",
       "    </tr>\n",
       "    <tr>\n",
       "      <th>1</th>\n",
       "      <td>Abilities</td>\n",
       "      <td>Dynamic Flexibility</td>\n",
       "      <td>[0.026132064, 0.01646614, -0.044300795, -0.049...</td>\n",
       "    </tr>\n",
       "    <tr>\n",
       "      <th>2</th>\n",
       "      <td>Abilities</td>\n",
       "      <td>Dynamic Strength</td>\n",
       "      <td>[-0.029631265, -0.058616195, -0.026912851, -0....</td>\n",
       "    </tr>\n",
       "    <tr>\n",
       "      <th>3</th>\n",
       "      <td>Abilities</td>\n",
       "      <td>Explosive Strength</td>\n",
       "      <td>[-0.01992141, -0.017855039, 0.03263288, -0.017...</td>\n",
       "    </tr>\n",
       "    <tr>\n",
       "      <th>4</th>\n",
       "      <td>Abilities</td>\n",
       "      <td>Extent Flexibility</td>\n",
       "      <td>[-0.0036472701, -0.02147115, -0.023691023, -0....</td>\n",
       "    </tr>\n",
       "  </tbody>\n",
       "</table>\n",
       "</div>"
      ],
      "text/plain": [
       "  entity_type           entity_text  \\\n",
       "0   Abilities  Category Flexibility   \n",
       "1   Abilities   Dynamic Flexibility   \n",
       "2   Abilities      Dynamic Strength   \n",
       "3   Abilities    Explosive Strength   \n",
       "4   Abilities    Extent Flexibility   \n",
       "\n",
       "                                   entity_embeddings  \n",
       "0  [0.05120196, 0.09744891, -0.0618364, -0.022522...  \n",
       "1  [0.026132064, 0.01646614, -0.044300795, -0.049...  \n",
       "2  [-0.029631265, -0.058616195, -0.026912851, -0....  \n",
       "3  [-0.01992141, -0.017855039, 0.03263288, -0.017...  \n",
       "4  [-0.0036472701, -0.02147115, -0.023691023, -0....  "
      ]
     },
     "metadata": {},
     "output_type": "display_data"
    }
   ],
   "source": [
    "\n",
    "\n",
    "# Generate embeddings and add as a new column\n",
    "entities_df['entity_embeddings'] = entities_df['entity_text'].apply(lambda x: model.encode(x))\n",
    "\n",
    "# Verify results\n",
    "display(entities_df.head())\n"
   ]
  },
  {
   "cell_type": "code",
   "execution_count": 29,
   "id": "ad4c0da3-a030-487e-9f7e-4e160551131a",
   "metadata": {},
   "outputs": [
    {
     "data": {
      "text/html": [
       "<div>\n",
       "<style scoped>\n",
       "    .dataframe tbody tr th:only-of-type {\n",
       "        vertical-align: middle;\n",
       "    }\n",
       "\n",
       "    .dataframe tbody tr th {\n",
       "        vertical-align: top;\n",
       "    }\n",
       "\n",
       "    .dataframe thead th {\n",
       "        text-align: right;\n",
       "    }\n",
       "</style>\n",
       "<table border=\"1\" class=\"dataframe\">\n",
       "  <thead>\n",
       "    <tr style=\"text-align: right;\">\n",
       "      <th></th>\n",
       "      <th>noun_phrase</th>\n",
       "      <th>entity_text</th>\n",
       "      <th>entity_type</th>\n",
       "      <th>similarity_score</th>\n",
       "    </tr>\n",
       "  </thead>\n",
       "  <tbody>\n",
       "    <tr>\n",
       "      <th>0</th>\n",
       "      <td>java</td>\n",
       "      <td>Programming</td>\n",
       "      <td>Skills</td>\n",
       "      <td>0.702846</td>\n",
       "    </tr>\n",
       "    <tr>\n",
       "      <th>1</th>\n",
       "      <td>java</td>\n",
       "      <td>Programming</td>\n",
       "      <td>Skills</td>\n",
       "      <td>0.702846</td>\n",
       "    </tr>\n",
       "    <tr>\n",
       "      <th>2</th>\n",
       "      <td>team size</td>\n",
       "      <td>Developing and Building Teams</td>\n",
       "      <td>Work_activities</td>\n",
       "      <td>0.657865</td>\n",
       "    </tr>\n",
       "    <tr>\n",
       "      <th>3</th>\n",
       "      <td>java</td>\n",
       "      <td>Programming</td>\n",
       "      <td>Skills</td>\n",
       "      <td>0.702846</td>\n",
       "    </tr>\n",
       "    <tr>\n",
       "      <th>4</th>\n",
       "      <td>java</td>\n",
       "      <td>Programming</td>\n",
       "      <td>Skills</td>\n",
       "      <td>0.702846</td>\n",
       "    </tr>\n",
       "    <tr>\n",
       "      <th>5</th>\n",
       "      <td>team size</td>\n",
       "      <td>Developing and Building Teams</td>\n",
       "      <td>Work_activities</td>\n",
       "      <td>0.657865</td>\n",
       "    </tr>\n",
       "    <tr>\n",
       "      <th>6</th>\n",
       "      <td>java</td>\n",
       "      <td>Programming</td>\n",
       "      <td>Skills</td>\n",
       "      <td>0.702846</td>\n",
       "    </tr>\n",
       "    <tr>\n",
       "      <th>7</th>\n",
       "      <td>java</td>\n",
       "      <td>Programming</td>\n",
       "      <td>Skills</td>\n",
       "      <td>0.702846</td>\n",
       "    </tr>\n",
       "  </tbody>\n",
       "</table>\n",
       "</div>"
      ],
      "text/plain": [
       "  noun_phrase                    entity_text      entity_type  \\\n",
       "0        java                    Programming           Skills   \n",
       "1        java                    Programming           Skills   \n",
       "2   team size  Developing and Building Teams  Work_activities   \n",
       "3        java                    Programming           Skills   \n",
       "4        java                    Programming           Skills   \n",
       "5   team size  Developing and Building Teams  Work_activities   \n",
       "6        java                    Programming           Skills   \n",
       "7        java                    Programming           Skills   \n",
       "\n",
       "   similarity_score  \n",
       "0          0.702846  \n",
       "1          0.702846  \n",
       "2          0.657865  \n",
       "3          0.702846  \n",
       "4          0.702846  \n",
       "5          0.657865  \n",
       "6          0.702846  \n",
       "7          0.702846  "
      ]
     },
     "metadata": {},
     "output_type": "display_data"
    }
   ],
   "source": [
    "from sklearn.metrics.pairwise import cosine_similarity\n",
    "import numpy as np\n",
    "\n",
    "# Convert embeddings lists to numpy arrays for efficient computation\n",
    "entity_embeddings = np.vstack(entities_df['entity_embeddings'].values)\n",
    "nounphrase_embeddings = np.vstack(nounphrase_df['embedding'].values)\n",
    "\n",
    "# Calculate cosine similarity (noun_phrases vs. entities)\n",
    "similarity_matrix = cosine_similarity(nounphrase_embeddings, entity_embeddings)\n",
    "\n",
    "# Prepare a DataFrame of matches above the 0.65 threshold\n",
    "results = []\n",
    "\n",
    "for np_idx, noun_phrase in enumerate(nounphrase_df['noun_phrase']):\n",
    "    for ent_idx, entity_text in enumerate(entities_df['entity_text']):\n",
    "        similarity_score = similarity_matrix[np_idx, ent_idx]\n",
    "        if similarity_score > 0.65:\n",
    "            results.append({\n",
    "                'noun_phrase': noun_phrase,\n",
    "                'entity_text': entity_text,\n",
    "                'entity_type': entities_df.iloc[ent_idx]['entity_type'],\n",
    "                'similarity_score': similarity_score\n",
    "            })\n",
    "\n",
    "# Create the final results DataFrame\n",
    "similarity_df = pd.DataFrame(results)\n",
    "\n",
    "# Display the top matches\n",
    "display(similarity_df)\n"
   ]
  },
  {
   "cell_type": "code",
   "execution_count": 17,
   "id": "36ff5cd0-460f-455d-a42d-6fd9f060e779",
   "metadata": {},
   "outputs": [
    {
     "data": {
      "image/png": "[encoded data removed]",
      "text/plain": [
       "<Figure size 800x500 with 1 Axes>"
      ]
     },
     "metadata": {},
     "output_type": "display_data"
    }
   ],
   "source": [
    "import matplotlib.pyplot as plt\n",
    "\n",
    "# Flatten the similarity scores to visualize\n",
    "all_scores = similarity_matrix.flatten()\n",
    "\n",
    "# Plot histogram to visualize similarity distribution\n",
    "plt.figure(figsize=(8,5))\n",
    "plt.hist(all_scores, bins=50, color='skyblue')\n",
    "plt.title(\"Distribution of Cosine Similarity Scores\")\n",
    "plt.xlabel(\"Cosine Similarity\")\n",
    "plt.ylabel(\"Frequency\")\n",
    "plt.axvline(x=0.65, color='red', linestyle='--', label='Threshold = 0.65')\n",
    "plt.legend()\n",
    "plt.show()\n"
   ]
  },
  {
   "cell_type": "markdown",
   "id": "89ff4258-512b-4f13-b7cb-c8122b0fee7a",
   "metadata": {},
   "source": [
    "## 📌 Step 3: Calculate Individual Entity Scores per Job Title\n",
    "\n",
    "Calculate individual entity scores (score_k(j)) for each job based on your similarity threshold (≥ 0.65).\n",
    "\n"
   ]
  },
  {
   "cell_type": "code",
   "execution_count": null,
   "id": "a2040b79-6f16-4862-b420-b59f5a18a7d9",
   "metadata": {},
   "outputs": [],
   "source": []
  },
  {
   "cell_type": "code",
   "execution_count": 7,
   "id": "a62c014b-7752-4d37-8451-fd5439f6a0af",
   "metadata": {},
   "outputs": [
    {
     "ename": "KeyboardInterrupt",
     "evalue": "",
     "output_type": "error",
     "traceback": [
      "\u001b[0;31m---------------------------------------------------------------------------\u001b[0m",
      "\u001b[0;31mKeyboardInterrupt\u001b[0m                         Traceback (most recent call last)",
      "File \u001b[0;32m/opt/conda/lib/python3.11/site-packages/neo4j/_sync/io/_pool.py:778\u001b[0m, in \u001b[0;36mNeo4jPool.fetch_routing_info\u001b[0;34m(self, address, database, imp_user, bookmarks, auth, acquisition_timeout)\u001b[0m\n\u001b[1;32m    777\u001b[0m \u001b[38;5;28;01mtry\u001b[39;00m:\n\u001b[0;32m--> 778\u001b[0m     routing_table \u001b[38;5;241m=\u001b[39m \u001b[43mcx\u001b[49m\u001b[38;5;241;43m.\u001b[39;49m\u001b[43mroute\u001b[49m\u001b[43m(\u001b[49m\n\u001b[1;32m    779\u001b[0m \u001b[43m        \u001b[49m\u001b[43mdatabase\u001b[49m\u001b[38;5;241;43m=\u001b[39;49m\u001b[43mdatabase\u001b[49m\u001b[43m \u001b[49m\u001b[38;5;129;43;01mor\u001b[39;49;00m\u001b[43m \u001b[49m\u001b[38;5;28;43mself\u001b[39;49m\u001b[38;5;241;43m.\u001b[39;49m\u001b[43mworkspace_config\u001b[49m\u001b[38;5;241;43m.\u001b[39;49m\u001b[43mdatabase\u001b[49m\u001b[43m,\u001b[49m\n\u001b[1;32m    780\u001b[0m \u001b[43m        \u001b[49m\u001b[43mimp_user\u001b[49m\u001b[38;5;241;43m=\u001b[39;49m\u001b[43mimp_user\u001b[49m\u001b[43m \u001b[49m\u001b[38;5;129;43;01mor\u001b[39;49;00m\u001b[43m \u001b[49m\u001b[38;5;28;43mself\u001b[39;49m\u001b[38;5;241;43m.\u001b[39;49m\u001b[43mworkspace_config\u001b[49m\u001b[38;5;241;43m.\u001b[39;49m\u001b[43mimpersonated_user\u001b[49m\u001b[43m,\u001b[49m\n\u001b[1;32m    781\u001b[0m \u001b[43m        \u001b[49m\u001b[43mbookmarks\u001b[49m\u001b[38;5;241;43m=\u001b[39;49m\u001b[43mbookmarks\u001b[49m\u001b[43m,\u001b[49m\n\u001b[1;32m    782\u001b[0m \u001b[43m    \u001b[49m\u001b[43m)\u001b[49m\n\u001b[1;32m    783\u001b[0m \u001b[38;5;28;01mfinally\u001b[39;00m:\n",
      "File \u001b[0;32m/opt/conda/lib/python3.11/site-packages/neo4j/_sync/io/_bolt5.py:237\u001b[0m, in \u001b[0;36mBolt5x0.route\u001b[0;34m(self, database, imp_user, bookmarks, dehydration_hooks, hydration_hooks)\u001b[0m\n\u001b[1;32m    236\u001b[0m \u001b[38;5;28mself\u001b[39m\u001b[38;5;241m.\u001b[39msend_all()\n\u001b[0;32m--> 237\u001b[0m \u001b[38;5;28;43mself\u001b[39;49m\u001b[38;5;241;43m.\u001b[39;49m\u001b[43mfetch_all\u001b[49m\u001b[43m(\u001b[49m\u001b[43m)\u001b[49m\n\u001b[1;32m    238\u001b[0m \u001b[38;5;28;01mreturn\u001b[39;00m [metadata\u001b[38;5;241m.\u001b[39mget(\u001b[38;5;124m\"\u001b[39m\u001b[38;5;124mrt\u001b[39m\u001b[38;5;124m\"\u001b[39m)]\n",
      "File \u001b[0;32m/opt/conda/lib/python3.11/site-packages/neo4j/_sync/io/_bolt.py:879\u001b[0m, in \u001b[0;36mBolt.fetch_all\u001b[0;34m(self)\u001b[0m\n\u001b[1;32m    878\u001b[0m \u001b[38;5;28;01mwhile\u001b[39;00m \u001b[38;5;129;01mnot\u001b[39;00m response\u001b[38;5;241m.\u001b[39mcomplete:\n\u001b[0;32m--> 879\u001b[0m     detail_delta, summary_delta \u001b[38;5;241m=\u001b[39m \u001b[38;5;28;43mself\u001b[39;49m\u001b[38;5;241;43m.\u001b[39;49m\u001b[43mfetch_message\u001b[49m\u001b[43m(\u001b[49m\u001b[43m)\u001b[49m\n\u001b[1;32m    880\u001b[0m     detail_count \u001b[38;5;241m+\u001b[39m\u001b[38;5;241m=\u001b[39m detail_delta\n",
      "File \u001b[0;32m/opt/conda/lib/python3.11/site-packages/neo4j/_sync/io/_bolt.py:861\u001b[0m, in \u001b[0;36mBolt.fetch_message\u001b[0;34m(self)\u001b[0m\n\u001b[1;32m    860\u001b[0m \u001b[38;5;66;03m# Receive exactly one message\u001b[39;00m\n\u001b[0;32m--> 861\u001b[0m tag, fields \u001b[38;5;241m=\u001b[39m \u001b[38;5;28;43mself\u001b[39;49m\u001b[38;5;241;43m.\u001b[39;49m\u001b[43minbox\u001b[49m\u001b[38;5;241;43m.\u001b[39;49m\u001b[43mpop\u001b[49m\u001b[43m(\u001b[49m\n\u001b[1;32m    862\u001b[0m \u001b[43m    \u001b[49m\u001b[43mhydration_hooks\u001b[49m\u001b[38;5;241;43m=\u001b[39;49m\u001b[38;5;28;43mself\u001b[39;49m\u001b[38;5;241;43m.\u001b[39;49m\u001b[43mresponses\u001b[49m\u001b[43m[\u001b[49m\u001b[38;5;241;43m0\u001b[39;49m\u001b[43m]\u001b[49m\u001b[38;5;241;43m.\u001b[39;49m\u001b[43mhydration_hooks\u001b[49m\n\u001b[1;32m    863\u001b[0m \u001b[43m\u001b[49m\u001b[43m)\u001b[49m\n\u001b[1;32m    864\u001b[0m res \u001b[38;5;241m=\u001b[39m \u001b[38;5;28mself\u001b[39m\u001b[38;5;241m.\u001b[39m_process_message(tag, fields)\n",
      "File \u001b[0;32m/opt/conda/lib/python3.11/site-packages/neo4j/_sync/io/_common.py:77\u001b[0m, in \u001b[0;36mInbox.pop\u001b[0;34m(self, hydration_hooks)\u001b[0m\n\u001b[1;32m     76\u001b[0m \u001b[38;5;28;01mdef\u001b[39;00m \u001b[38;5;21mpop\u001b[39m(\u001b[38;5;28mself\u001b[39m, hydration_hooks):\n\u001b[0;32m---> 77\u001b[0m     \u001b[38;5;28;43mself\u001b[39;49m\u001b[38;5;241;43m.\u001b[39;49m\u001b[43m_buffer_one_chunk\u001b[49m\u001b[43m(\u001b[49m\u001b[43m)\u001b[49m\n\u001b[1;32m     78\u001b[0m     \u001b[38;5;28;01mtry\u001b[39;00m:\n",
      "File \u001b[0;32m/opt/conda/lib/python3.11/site-packages/neo4j/_sync/io/_common.py:54\u001b[0m, in \u001b[0;36mInbox._buffer_one_chunk\u001b[0;34m(self)\u001b[0m\n\u001b[1;32m     52\u001b[0m \u001b[38;5;28;01mwhile\u001b[39;00m chunk_size \u001b[38;5;241m==\u001b[39m \u001b[38;5;241m0\u001b[39m:\n\u001b[1;32m     53\u001b[0m     \u001b[38;5;66;03m# Determine the chunk size and skip noop\u001b[39;00m\n\u001b[0;32m---> 54\u001b[0m     \u001b[43mreceive_into_buffer\u001b[49m\u001b[43m(\u001b[49m\u001b[38;5;28;43mself\u001b[39;49m\u001b[38;5;241;43m.\u001b[39;49m\u001b[43m_socket\u001b[49m\u001b[43m,\u001b[49m\u001b[43m \u001b[49m\u001b[38;5;28;43mself\u001b[39;49m\u001b[38;5;241;43m.\u001b[39;49m\u001b[43m_buffer\u001b[49m\u001b[43m,\u001b[49m\u001b[43m \u001b[49m\u001b[38;5;241;43m2\u001b[39;49m\u001b[43m)\u001b[49m\n\u001b[1;32m     55\u001b[0m     chunk_size \u001b[38;5;241m=\u001b[39m \u001b[38;5;28mself\u001b[39m\u001b[38;5;241m.\u001b[39m_buffer\u001b[38;5;241m.\u001b[39mpop_u16()\n",
      "File \u001b[0;32m/opt/conda/lib/python3.11/site-packages/neo4j/_sync/io/_common.py:345\u001b[0m, in \u001b[0;36mreceive_into_buffer\u001b[0;34m(sock, buffer, n_bytes)\u001b[0m\n\u001b[1;32m    344\u001b[0m \u001b[38;5;28;01mwhile\u001b[39;00m buffer\u001b[38;5;241m.\u001b[39mused \u001b[38;5;241m<\u001b[39m end:\n\u001b[0;32m--> 345\u001b[0m     n \u001b[38;5;241m=\u001b[39m \u001b[43msock\u001b[49m\u001b[38;5;241;43m.\u001b[39;49m\u001b[43mrecv_into\u001b[49m\u001b[43m(\u001b[49m\n\u001b[1;32m    346\u001b[0m \u001b[43m        \u001b[49m\u001b[43mview\u001b[49m\u001b[43m[\u001b[49m\u001b[43mbuffer\u001b[49m\u001b[38;5;241;43m.\u001b[39;49m\u001b[43mused\u001b[49m\u001b[43m \u001b[49m\u001b[43m:\u001b[49m\u001b[43m \u001b[49m\u001b[43mend\u001b[49m\u001b[43m]\u001b[49m\u001b[43m,\u001b[49m\u001b[43m \u001b[49m\u001b[43mend\u001b[49m\u001b[43m \u001b[49m\u001b[38;5;241;43m-\u001b[39;49m\u001b[43m \u001b[49m\u001b[43mbuffer\u001b[49m\u001b[38;5;241;43m.\u001b[39;49m\u001b[43mused\u001b[49m\n\u001b[1;32m    347\u001b[0m \u001b[43m    \u001b[49m\u001b[43m)\u001b[49m\n\u001b[1;32m    348\u001b[0m     \u001b[38;5;28;01mif\u001b[39;00m n \u001b[38;5;241m==\u001b[39m \u001b[38;5;241m0\u001b[39m:\n",
      "File \u001b[0;32m/opt/conda/lib/python3.11/site-packages/neo4j/_async_compat/network/_bolt_socket.py:364\u001b[0m, in \u001b[0;36mBoltSocketBase.recv_into\u001b[0;34m(self, buffer, nbytes)\u001b[0m\n\u001b[1;32m    363\u001b[0m \u001b[38;5;28;01mdef\u001b[39;00m \u001b[38;5;21mrecv_into\u001b[39m(\u001b[38;5;28mself\u001b[39m, buffer, nbytes):\n\u001b[0;32m--> 364\u001b[0m     \u001b[38;5;28;01mreturn\u001b[39;00m \u001b[38;5;28;43mself\u001b[39;49m\u001b[38;5;241;43m.\u001b[39;49m\u001b[43m_wait_for_io\u001b[49m\u001b[43m(\u001b[49m\u001b[38;5;28;43mself\u001b[39;49m\u001b[38;5;241;43m.\u001b[39;49m\u001b[43m_socket\u001b[49m\u001b[38;5;241;43m.\u001b[39;49m\u001b[43mrecv_into\u001b[49m\u001b[43m,\u001b[49m\u001b[43m \u001b[49m\u001b[43mbuffer\u001b[49m\u001b[43m,\u001b[49m\u001b[43m \u001b[49m\u001b[43mnbytes\u001b[49m\u001b[43m)\u001b[49m\n",
      "File \u001b[0;32m/opt/conda/lib/python3.11/site-packages/neo4j/_async_compat/network/_bolt_socket.py:339\u001b[0m, in \u001b[0;36mBoltSocketBase._wait_for_io\u001b[0;34m(self, func, *args, **kwargs)\u001b[0m\n\u001b[1;32m    338\u001b[0m \u001b[38;5;28;01mif\u001b[39;00m \u001b[38;5;28mself\u001b[39m\u001b[38;5;241m.\u001b[39m_deadline \u001b[38;5;129;01mis\u001b[39;00m \u001b[38;5;28;01mNone\u001b[39;00m:\n\u001b[0;32m--> 339\u001b[0m     \u001b[38;5;28;01mreturn\u001b[39;00m \u001b[43mfunc\u001b[49m\u001b[43m(\u001b[49m\u001b[38;5;241;43m*\u001b[39;49m\u001b[43margs\u001b[49m\u001b[43m,\u001b[49m\u001b[43m \u001b[49m\u001b[38;5;241;43m*\u001b[39;49m\u001b[38;5;241;43m*\u001b[39;49m\u001b[43mkwargs\u001b[49m\u001b[43m)\u001b[49m\n\u001b[1;32m    340\u001b[0m timeout \u001b[38;5;241m=\u001b[39m \u001b[38;5;28mself\u001b[39m\u001b[38;5;241m.\u001b[39m_socket\u001b[38;5;241m.\u001b[39mgettimeout()\n",
      "\u001b[0;31mKeyboardInterrupt\u001b[0m: ",
      "\nDuring handling of the above exception, another exception occurred:\n",
      "\u001b[0;31mKeyboardInterrupt\u001b[0m                         Traceback (most recent call last)",
      "Cell \u001b[0;32mIn[7], line 9\u001b[0m\n\u001b[1;32m      1\u001b[0m entity_score_query \u001b[38;5;241m=\u001b[39m \u001b[38;5;124m\"\"\"\u001b[39m\n\u001b[1;32m      2\u001b[0m \u001b[38;5;124mMATCH (r:Resume \u001b[39m\u001b[38;5;132;01m{community_id: 801}\u001b[39;00m\u001b[38;5;124m)-[:CONTAINS]->(:NounPhrase)-[sim:SIMILAR_TO]->(entity)-[req:REQUIRED_FOR]->(job:JobTitle)\u001b[39m\n\u001b[1;32m      3\u001b[0m \u001b[38;5;124mWHERE sim.score >= 0.65\u001b[39m\n\u001b[0;32m   (...)\u001b[0m\n\u001b[1;32m      6\u001b[0m \u001b[38;5;124mRETURN Job, entity_type, entity_score\u001b[39m\n\u001b[1;32m      7\u001b[0m \u001b[38;5;124m\"\"\"\u001b[39m\n\u001b[0;32m----> 9\u001b[0m entity_scores_df \u001b[38;5;241m=\u001b[39m \u001b[43mrun_query\u001b[49m\u001b[43m(\u001b[49m\u001b[43mentity_score_query\u001b[49m\u001b[43m)\u001b[49m\n\u001b[1;32m     10\u001b[0m display(entity_scores_df\u001b[38;5;241m.\u001b[39mhead(\u001b[38;5;241m10\u001b[39m))  \u001b[38;5;66;03m# Display first few rows\u001b[39;00m\n",
      "Cell \u001b[0;32mIn[1], line 14\u001b[0m, in \u001b[0;36mrun_query\u001b[0;34m(query, parameters)\u001b[0m\n\u001b[1;32m     12\u001b[0m \u001b[38;5;28;01mdef\u001b[39;00m \u001b[38;5;21mrun_query\u001b[39m(query, parameters\u001b[38;5;241m=\u001b[39m\u001b[38;5;28;01mNone\u001b[39;00m):\n\u001b[1;32m     13\u001b[0m     \u001b[38;5;28;01mwith\u001b[39;00m driver\u001b[38;5;241m.\u001b[39msession() \u001b[38;5;28;01mas\u001b[39;00m session:\n\u001b[0;32m---> 14\u001b[0m         result \u001b[38;5;241m=\u001b[39m \u001b[43msession\u001b[49m\u001b[38;5;241;43m.\u001b[39;49m\u001b[43mrun\u001b[49m\u001b[43m(\u001b[49m\u001b[43mquery\u001b[49m\u001b[43m,\u001b[49m\u001b[43m \u001b[49m\u001b[43mparameters\u001b[49m\u001b[43m)\u001b[49m\n\u001b[1;32m     15\u001b[0m         \u001b[38;5;28;01mreturn\u001b[39;00m pd\u001b[38;5;241m.\u001b[39mDataFrame(result\u001b[38;5;241m.\u001b[39mdata())\n",
      "File \u001b[0;32m/opt/conda/lib/python3.11/site-packages/neo4j/_sync/work/session.py:313\u001b[0m, in \u001b[0;36mSession.run\u001b[0;34m(self, query, parameters, **kwargs)\u001b[0m\n\u001b[1;32m    310\u001b[0m     \u001b[38;5;28mself\u001b[39m\u001b[38;5;241m.\u001b[39m_auto_result\u001b[38;5;241m.\u001b[39m_buffer_all()\n\u001b[1;32m    312\u001b[0m \u001b[38;5;28;01mif\u001b[39;00m \u001b[38;5;129;01mnot\u001b[39;00m \u001b[38;5;28mself\u001b[39m\u001b[38;5;241m.\u001b[39m_connection:\n\u001b[0;32m--> 313\u001b[0m     \u001b[38;5;28;43mself\u001b[39;49m\u001b[38;5;241;43m.\u001b[39;49m\u001b[43m_connect\u001b[49m\u001b[43m(\u001b[49m\u001b[38;5;28;43mself\u001b[39;49m\u001b[38;5;241;43m.\u001b[39;49m\u001b[43m_config\u001b[49m\u001b[38;5;241;43m.\u001b[39;49m\u001b[43mdefault_access_mode\u001b[49m\u001b[43m)\u001b[49m\n\u001b[1;32m    314\u001b[0m     \u001b[38;5;28;01massert\u001b[39;00m \u001b[38;5;28mself\u001b[39m\u001b[38;5;241m.\u001b[39m_connection \u001b[38;5;129;01mis\u001b[39;00m \u001b[38;5;129;01mnot\u001b[39;00m \u001b[38;5;28;01mNone\u001b[39;00m\n\u001b[1;32m    315\u001b[0m cx \u001b[38;5;241m=\u001b[39m \u001b[38;5;28mself\u001b[39m\u001b[38;5;241m.\u001b[39m_connection\n",
      "File \u001b[0;32m/opt/conda/lib/python3.11/site-packages/neo4j/_sync/work/session.py:136\u001b[0m, in \u001b[0;36mSession._connect\u001b[0;34m(self, access_mode, **acquire_kwargs)\u001b[0m\n\u001b[1;32m    134\u001b[0m     access_mode \u001b[38;5;241m=\u001b[39m \u001b[38;5;28mself\u001b[39m\u001b[38;5;241m.\u001b[39m_config\u001b[38;5;241m.\u001b[39mdefault_access_mode\n\u001b[1;32m    135\u001b[0m \u001b[38;5;28;01mtry\u001b[39;00m:\n\u001b[0;32m--> 136\u001b[0m     \u001b[38;5;28;43msuper\u001b[39;49m\u001b[43m(\u001b[49m\u001b[43m)\u001b[49m\u001b[38;5;241;43m.\u001b[39;49m\u001b[43m_connect\u001b[49m\u001b[43m(\u001b[49m\n\u001b[1;32m    137\u001b[0m \u001b[43m        \u001b[49m\u001b[43maccess_mode\u001b[49m\u001b[43m,\u001b[49m\u001b[43m \u001b[49m\u001b[43mauth\u001b[49m\u001b[38;5;241;43m=\u001b[39;49m\u001b[38;5;28;43mself\u001b[39;49m\u001b[38;5;241;43m.\u001b[39;49m\u001b[43m_config\u001b[49m\u001b[38;5;241;43m.\u001b[39;49m\u001b[43mauth\u001b[49m\u001b[43m,\u001b[49m\u001b[43m \u001b[49m\u001b[38;5;241;43m*\u001b[39;49m\u001b[38;5;241;43m*\u001b[39;49m\u001b[43macquire_kwargs\u001b[49m\n\u001b[1;32m    138\u001b[0m \u001b[43m    \u001b[49m\u001b[43m)\u001b[49m\n\u001b[1;32m    139\u001b[0m \u001b[38;5;28;01mexcept\u001b[39;00m asyncio\u001b[38;5;241m.\u001b[39mCancelledError:\n\u001b[1;32m    140\u001b[0m     \u001b[38;5;28mself\u001b[39m\u001b[38;5;241m.\u001b[39m_handle_cancellation(message\u001b[38;5;241m=\u001b[39m\u001b[38;5;124m\"\u001b[39m\u001b[38;5;124m_connect\u001b[39m\u001b[38;5;124m\"\u001b[39m)\n",
      "File \u001b[0;32m/opt/conda/lib/python3.11/site-packages/neo4j/_sync/work/workspace.py:199\u001b[0m, in \u001b[0;36mWorkspace._connect\u001b[0;34m(self, access_mode, auth, **acquire_kwargs)\u001b[0m\n\u001b[1;32m    189\u001b[0m acquire_kwargs_ \u001b[38;5;241m=\u001b[39m {\n\u001b[1;32m    190\u001b[0m     \u001b[38;5;124m\"\u001b[39m\u001b[38;5;124maccess_mode\u001b[39m\u001b[38;5;124m\"\u001b[39m: access_mode,\n\u001b[1;32m    191\u001b[0m     \u001b[38;5;124m\"\u001b[39m\u001b[38;5;124mtimeout\u001b[39m\u001b[38;5;124m\"\u001b[39m: acquisition_timeout,\n\u001b[0;32m   (...)\u001b[0m\n\u001b[1;32m    196\u001b[0m     \u001b[38;5;124m\"\u001b[39m\u001b[38;5;124mdatabase_callback\u001b[39m\u001b[38;5;124m\"\u001b[39m: \u001b[38;5;28mself\u001b[39m\u001b[38;5;241m.\u001b[39m_make_db_resolution_callback(),\n\u001b[1;32m    197\u001b[0m }\n\u001b[1;32m    198\u001b[0m acquire_kwargs_\u001b[38;5;241m.\u001b[39mupdate(acquire_kwargs)\n\u001b[0;32m--> 199\u001b[0m \u001b[38;5;28mself\u001b[39m\u001b[38;5;241m.\u001b[39m_connection \u001b[38;5;241m=\u001b[39m \u001b[38;5;28;43mself\u001b[39;49m\u001b[38;5;241;43m.\u001b[39;49m\u001b[43m_pool\u001b[49m\u001b[38;5;241;43m.\u001b[39;49m\u001b[43macquire\u001b[49m\u001b[43m(\u001b[49m\u001b[38;5;241;43m*\u001b[39;49m\u001b[38;5;241;43m*\u001b[39;49m\u001b[43macquire_kwargs_\u001b[49m\u001b[43m)\u001b[49m\n\u001b[1;32m    200\u001b[0m \u001b[38;5;28;01mif\u001b[39;00m (\n\u001b[1;32m    201\u001b[0m     target_db\u001b[38;5;241m.\u001b[39mguessed\n\u001b[1;32m    202\u001b[0m     \u001b[38;5;129;01mand\u001b[39;00m \u001b[38;5;129;01mnot\u001b[39;00m \u001b[38;5;28mself\u001b[39m\u001b[38;5;241m.\u001b[39m_pinned_database\n\u001b[0;32m   (...)\u001b[0m\n\u001b[1;32m    206\u001b[0m     \u001b[38;5;66;03m# support SSR.\u001b[39;00m\n\u001b[1;32m    207\u001b[0m     \u001b[38;5;66;03m# => we need to fall back to explicit home database resolution\u001b[39;00m\n\u001b[1;32m    208\u001b[0m     log\u001b[38;5;241m.\u001b[39mdebug(\n\u001b[1;32m    209\u001b[0m         \u001b[38;5;124m\"\u001b[39m\u001b[38;5;124m[#0000]  _: <WORKSPACE> detected ssr support race; \u001b[39m\u001b[38;5;124m\"\u001b[39m\n\u001b[1;32m    210\u001b[0m         \u001b[38;5;124m\"\u001b[39m\u001b[38;5;124mfalling back to explicit home database resolution\u001b[39m\u001b[38;5;124m\"\u001b[39m,\n\u001b[1;32m    211\u001b[0m     )\n",
      "File \u001b[0;32m/opt/conda/lib/python3.11/site-packages/neo4j/_sync/io/_pool.py:1161\u001b[0m, in \u001b[0;36mNeo4jPool.acquire\u001b[0;34m(self, access_mode, timeout, database, bookmarks, auth, liveness_check_timeout, database_callback)\u001b[0m\n\u001b[1;32m   1153\u001b[0m     Util\u001b[38;5;241m.\u001b[39mcallback(database_callback, new_database)\n\u001b[1;32m   1155\u001b[0m log\u001b[38;5;241m.\u001b[39mdebug(\n\u001b[1;32m   1156\u001b[0m     \u001b[38;5;124m\"\u001b[39m\u001b[38;5;124m[#0000]  _: <POOL> acquire routing connection, \u001b[39m\u001b[38;5;124m\"\u001b[39m\n\u001b[1;32m   1157\u001b[0m     \u001b[38;5;124m\"\u001b[39m\u001b[38;5;124maccess_mode=\u001b[39m\u001b[38;5;132;01m%r\u001b[39;00m\u001b[38;5;124m, database=\u001b[39m\u001b[38;5;132;01m%r\u001b[39;00m\u001b[38;5;124m\"\u001b[39m,\n\u001b[1;32m   1158\u001b[0m     access_mode,\n\u001b[1;32m   1159\u001b[0m     database,\n\u001b[1;32m   1160\u001b[0m )\n\u001b[0;32m-> 1161\u001b[0m \u001b[38;5;28;43mself\u001b[39;49m\u001b[38;5;241;43m.\u001b[39;49m\u001b[43mensure_routing_table_is_fresh\u001b[49m\u001b[43m(\u001b[49m\n\u001b[1;32m   1162\u001b[0m \u001b[43m    \u001b[49m\u001b[43maccess_mode\u001b[49m\u001b[38;5;241;43m=\u001b[39;49m\u001b[43maccess_mode\u001b[49m\u001b[43m,\u001b[49m\n\u001b[1;32m   1163\u001b[0m \u001b[43m    \u001b[49m\u001b[43mdatabase\u001b[49m\u001b[38;5;241;43m=\u001b[39;49m\u001b[43mdatabase\u001b[49m\u001b[43m,\u001b[49m\n\u001b[1;32m   1164\u001b[0m \u001b[43m    \u001b[49m\u001b[43mimp_user\u001b[49m\u001b[38;5;241;43m=\u001b[39;49m\u001b[38;5;28;43;01mNone\u001b[39;49;00m\u001b[43m,\u001b[49m\n\u001b[1;32m   1165\u001b[0m \u001b[43m    \u001b[49m\u001b[43mbookmarks\u001b[49m\u001b[38;5;241;43m=\u001b[39;49m\u001b[43mbookmarks\u001b[49m\u001b[43m,\u001b[49m\n\u001b[1;32m   1166\u001b[0m \u001b[43m    \u001b[49m\u001b[43mauth\u001b[49m\u001b[38;5;241;43m=\u001b[39;49m\u001b[43mauth\u001b[49m\u001b[43m,\u001b[49m\n\u001b[1;32m   1167\u001b[0m \u001b[43m    \u001b[49m\u001b[43macquisition_timeout\u001b[49m\u001b[38;5;241;43m=\u001b[39;49m\u001b[43mtimeout\u001b[49m\u001b[43m,\u001b[49m\n\u001b[1;32m   1168\u001b[0m \u001b[43m    \u001b[49m\u001b[43mdatabase_callback\u001b[49m\u001b[38;5;241;43m=\u001b[39;49m\u001b[43m(\u001b[49m\n\u001b[1;32m   1169\u001b[0m \u001b[43m        \u001b[49m\u001b[43mwrapped_database_callback\u001b[49m\n\u001b[1;32m   1170\u001b[0m \u001b[43m        \u001b[49m\u001b[38;5;28;43;01mif\u001b[39;49;00m\u001b[43m \u001b[49m\u001b[43mdatabase\u001b[49m\u001b[38;5;241;43m.\u001b[39;49m\u001b[43mguessed\u001b[49m\n\u001b[1;32m   1171\u001b[0m \u001b[43m        \u001b[49m\u001b[38;5;28;43;01melse\u001b[39;49;00m\u001b[43m \u001b[49m\u001b[43mdatabase_callback\u001b[49m\n\u001b[1;32m   1172\u001b[0m \u001b[43m    \u001b[49m\u001b[43m)\u001b[49m\u001b[43m,\u001b[49m\n\u001b[1;32m   1173\u001b[0m \u001b[43m\u001b[49m\u001b[43m)\u001b[49m\n\u001b[1;32m   1175\u001b[0m \u001b[38;5;28;01mwhile\u001b[39;00m \u001b[38;5;28;01mTrue\u001b[39;00m:\n\u001b[1;32m   1176\u001b[0m     \u001b[38;5;28;01mtry\u001b[39;00m:\n\u001b[1;32m   1177\u001b[0m         \u001b[38;5;66;03m# Get an address for a connection that have the fewest in-use\u001b[39;00m\n\u001b[1;32m   1178\u001b[0m         \u001b[38;5;66;03m# connections.\u001b[39;00m\n",
      "File \u001b[0;32m/opt/conda/lib/python3.11/site-packages/neo4j/_sync/io/_pool.py:1084\u001b[0m, in \u001b[0;36mNeo4jPool.ensure_routing_table_is_fresh\u001b[0;34m(self, access_mode, database, imp_user, bookmarks, auth, acquisition_timeout, database_callback)\u001b[0m\n\u001b[1;32m   1081\u001b[0m     Util\u001b[38;5;241m.\u001b[39mcallback(database_callback, database)\n\u001b[1;32m   1082\u001b[0m     \u001b[38;5;28mself\u001b[39m\u001b[38;5;241m.\u001b[39mupdate_connection_pool()\n\u001b[0;32m-> 1084\u001b[0m \u001b[38;5;28;43mself\u001b[39;49m\u001b[38;5;241;43m.\u001b[39;49m\u001b[43mupdate_routing_table\u001b[49m\u001b[43m(\u001b[49m\n\u001b[1;32m   1085\u001b[0m \u001b[43m    \u001b[49m\u001b[43mdatabase\u001b[49m\u001b[38;5;241;43m=\u001b[39;49m\u001b[43mdatabase_request\u001b[49m\u001b[43m,\u001b[49m\n\u001b[1;32m   1086\u001b[0m \u001b[43m    \u001b[49m\u001b[43mimp_user\u001b[49m\u001b[38;5;241;43m=\u001b[39;49m\u001b[43mimp_user\u001b[49m\u001b[43m,\u001b[49m\n\u001b[1;32m   1087\u001b[0m \u001b[43m    \u001b[49m\u001b[43mbookmarks\u001b[49m\u001b[38;5;241;43m=\u001b[39;49m\u001b[43mbookmarks\u001b[49m\u001b[43m,\u001b[49m\n\u001b[1;32m   1088\u001b[0m \u001b[43m    \u001b[49m\u001b[43mauth\u001b[49m\u001b[38;5;241;43m=\u001b[39;49m\u001b[43mauth\u001b[49m\u001b[43m,\u001b[49m\n\u001b[1;32m   1089\u001b[0m \u001b[43m    \u001b[49m\u001b[43macquisition_timeout\u001b[49m\u001b[38;5;241;43m=\u001b[39;49m\u001b[43macquisition_timeout\u001b[49m\u001b[43m,\u001b[49m\n\u001b[1;32m   1090\u001b[0m \u001b[43m    \u001b[49m\u001b[43mdatabase_callback\u001b[49m\u001b[38;5;241;43m=\u001b[39;49m\u001b[43mwrapped_database_callback\u001b[49m\u001b[43m,\u001b[49m\n\u001b[1;32m   1091\u001b[0m \u001b[43m\u001b[49m\u001b[43m)\u001b[49m\n\u001b[1;32m   1093\u001b[0m \u001b[38;5;28;01mreturn\u001b[39;00m \u001b[38;5;28;01mTrue\u001b[39;00m\n",
      "File \u001b[0;32m/opt/conda/lib/python3.11/site-packages/neo4j/_sync/io/_pool.py:971\u001b[0m, in \u001b[0;36mNeo4jPool.update_routing_table\u001b[0;34m(self, database, imp_user, bookmarks, auth, acquisition_timeout, database_callback)\u001b[0m\n\u001b[1;32m    964\u001b[0m     existing_routers \u001b[38;5;241m=\u001b[39m {\u001b[38;5;28mself\u001b[39m\u001b[38;5;241m.\u001b[39maddress}\n\u001b[1;32m    965\u001b[0m     prefer_initial_routing_address \u001b[38;5;241m=\u001b[39m \u001b[38;5;28;01mTrue\u001b[39;00m\n\u001b[1;32m    967\u001b[0m \u001b[38;5;28;01mif\u001b[39;00m (\n\u001b[1;32m    968\u001b[0m     prefer_initial_routing_address\n\u001b[1;32m    969\u001b[0m     \u001b[38;5;129;01mand\u001b[39;00m\n\u001b[1;32m    970\u001b[0m     \u001b[38;5;66;03m# TODO: Test this state\u001b[39;00m\n\u001b[0;32m--> 971\u001b[0m     \u001b[38;5;28;43mself\u001b[39;49m\u001b[38;5;241;43m.\u001b[39;49m\u001b[43m_update_routing_table_from\u001b[49m\u001b[43m(\u001b[49m\n\u001b[1;32m    972\u001b[0m \u001b[43m        \u001b[49m\u001b[38;5;28;43mself\u001b[39;49m\u001b[38;5;241;43m.\u001b[39;49m\u001b[43maddress\u001b[49m\u001b[43m,\u001b[49m\n\u001b[1;32m    973\u001b[0m \u001b[43m        \u001b[49m\u001b[43mdatabase\u001b[49m\u001b[38;5;241;43m=\u001b[39;49m\u001b[43mdatabase\u001b[49m\u001b[43m,\u001b[49m\n\u001b[1;32m    974\u001b[0m \u001b[43m        \u001b[49m\u001b[43mimp_user\u001b[49m\u001b[38;5;241;43m=\u001b[39;49m\u001b[43mimp_user\u001b[49m\u001b[43m,\u001b[49m\n\u001b[1;32m    975\u001b[0m \u001b[43m        \u001b[49m\u001b[43mbookmarks\u001b[49m\u001b[38;5;241;43m=\u001b[39;49m\u001b[43mbookmarks\u001b[49m\u001b[43m,\u001b[49m\n\u001b[1;32m    976\u001b[0m \u001b[43m        \u001b[49m\u001b[43mauth\u001b[49m\u001b[38;5;241;43m=\u001b[39;49m\u001b[43mauth\u001b[49m\u001b[43m,\u001b[49m\n\u001b[1;32m    977\u001b[0m \u001b[43m        \u001b[49m\u001b[43macquisition_timeout\u001b[49m\u001b[38;5;241;43m=\u001b[39;49m\u001b[43macquisition_timeout\u001b[49m\u001b[43m,\u001b[49m\n\u001b[1;32m    978\u001b[0m \u001b[43m        \u001b[49m\u001b[43mdatabase_callback\u001b[49m\u001b[38;5;241;43m=\u001b[39;49m\u001b[43mdatabase_callback\u001b[49m\u001b[43m,\u001b[49m\n\u001b[1;32m    979\u001b[0m \u001b[43m    \u001b[49m\u001b[43m)\u001b[49m\n\u001b[1;32m    980\u001b[0m ):\n\u001b[1;32m    981\u001b[0m     \u001b[38;5;66;03m# Why is only the first initial routing address used?\u001b[39;00m\n\u001b[1;32m    982\u001b[0m     \u001b[38;5;28;01mreturn\u001b[39;00m\n\u001b[1;32m    983\u001b[0m \u001b[38;5;28;01mif\u001b[39;00m \u001b[38;5;28mself\u001b[39m\u001b[38;5;241m.\u001b[39m_update_routing_table_from(\n\u001b[1;32m    984\u001b[0m     \u001b[38;5;241m*\u001b[39m(existing_routers \u001b[38;5;241m-\u001b[39m {\u001b[38;5;28mself\u001b[39m\u001b[38;5;241m.\u001b[39maddress}),\n\u001b[1;32m    985\u001b[0m     database\u001b[38;5;241m=\u001b[39mdatabase,\n\u001b[0;32m   (...)\u001b[0m\n\u001b[1;32m    990\u001b[0m     database_callback\u001b[38;5;241m=\u001b[39mdatabase_callback,\n\u001b[1;32m    991\u001b[0m ):\n",
      "File \u001b[0;32m/opt/conda/lib/python3.11/site-packages/neo4j/_sync/io/_pool.py:902\u001b[0m, in \u001b[0;36mNeo4jPool._update_routing_table_from\u001b[0;34m(self, database, imp_user, bookmarks, auth, acquisition_timeout, database_callback, *routers)\u001b[0m\n\u001b[1;32m    898\u001b[0m \u001b[38;5;28;01mfor\u001b[39;00m router \u001b[38;5;129;01min\u001b[39;00m routers:\n\u001b[1;32m    899\u001b[0m     \u001b[38;5;28;01mfor\u001b[39;00m address \u001b[38;5;129;01min\u001b[39;00m NetworkUtil\u001b[38;5;241m.\u001b[39mresolve_address(\n\u001b[1;32m    900\u001b[0m         router, resolver\u001b[38;5;241m=\u001b[39m\u001b[38;5;28mself\u001b[39m\u001b[38;5;241m.\u001b[39mpool_config\u001b[38;5;241m.\u001b[39mresolver\n\u001b[1;32m    901\u001b[0m     ):\n\u001b[0;32m--> 902\u001b[0m         new_routing_table \u001b[38;5;241m=\u001b[39m \u001b[38;5;28;43mself\u001b[39;49m\u001b[38;5;241;43m.\u001b[39;49m\u001b[43mfetch_routing_table\u001b[49m\u001b[43m(\u001b[49m\n\u001b[1;32m    903\u001b[0m \u001b[43m            \u001b[49m\u001b[43maddress\u001b[49m\u001b[38;5;241;43m=\u001b[39;49m\u001b[43maddress\u001b[49m\u001b[43m,\u001b[49m\n\u001b[1;32m    904\u001b[0m \u001b[43m            \u001b[49m\u001b[43macquisition_timeout\u001b[49m\u001b[38;5;241;43m=\u001b[39;49m\u001b[43macquisition_timeout\u001b[49m\u001b[43m,\u001b[49m\n\u001b[1;32m    905\u001b[0m \u001b[43m            \u001b[49m\u001b[43mdatabase\u001b[49m\u001b[38;5;241;43m=\u001b[39;49m\u001b[43mdatabase\u001b[49m\u001b[43m,\u001b[49m\n\u001b[1;32m    906\u001b[0m \u001b[43m            \u001b[49m\u001b[43mimp_user\u001b[49m\u001b[38;5;241;43m=\u001b[39;49m\u001b[43mimp_user\u001b[49m\u001b[43m,\u001b[49m\n\u001b[1;32m    907\u001b[0m \u001b[43m            \u001b[49m\u001b[43mbookmarks\u001b[49m\u001b[38;5;241;43m=\u001b[39;49m\u001b[43mbookmarks\u001b[49m\u001b[43m,\u001b[49m\n\u001b[1;32m    908\u001b[0m \u001b[43m            \u001b[49m\u001b[43mauth\u001b[49m\u001b[38;5;241;43m=\u001b[39;49m\u001b[43mauth\u001b[49m\u001b[43m,\u001b[49m\n\u001b[1;32m    909\u001b[0m \u001b[43m        \u001b[49m\u001b[43m)\u001b[49m\n\u001b[1;32m    910\u001b[0m         \u001b[38;5;28;01mif\u001b[39;00m new_routing_table \u001b[38;5;129;01mis\u001b[39;00m \u001b[38;5;129;01mnot\u001b[39;00m \u001b[38;5;28;01mNone\u001b[39;00m:\n\u001b[1;32m    911\u001b[0m             new_database \u001b[38;5;241m=\u001b[39m new_routing_table\u001b[38;5;241m.\u001b[39mdatabase\n",
      "File \u001b[0;32m/opt/conda/lib/python3.11/site-packages/neo4j/_sync/io/_pool.py:815\u001b[0m, in \u001b[0;36mNeo4jPool.fetch_routing_table\u001b[0;34m(self, address, acquisition_timeout, database, imp_user, bookmarks, auth)\u001b[0m\n\u001b[1;32m    813\u001b[0m new_routing_info \u001b[38;5;241m=\u001b[39m \u001b[38;5;28;01mNone\u001b[39;00m\n\u001b[1;32m    814\u001b[0m \u001b[38;5;28;01mtry\u001b[39;00m:\n\u001b[0;32m--> 815\u001b[0m     new_routing_info \u001b[38;5;241m=\u001b[39m \u001b[38;5;28;43mself\u001b[39;49m\u001b[38;5;241;43m.\u001b[39;49m\u001b[43mfetch_routing_info\u001b[49m\u001b[43m(\u001b[49m\n\u001b[1;32m    816\u001b[0m \u001b[43m        \u001b[49m\u001b[43maddress\u001b[49m\u001b[43m,\u001b[49m\n\u001b[1;32m    817\u001b[0m \u001b[43m        \u001b[49m\u001b[43mdatabase\u001b[49m\u001b[43m,\u001b[49m\n\u001b[1;32m    818\u001b[0m \u001b[43m        \u001b[49m\u001b[43mimp_user\u001b[49m\u001b[43m,\u001b[49m\n\u001b[1;32m    819\u001b[0m \u001b[43m        \u001b[49m\u001b[43mbookmarks\u001b[49m\u001b[43m,\u001b[49m\n\u001b[1;32m    820\u001b[0m \u001b[43m        \u001b[49m\u001b[43mauth\u001b[49m\u001b[43m,\u001b[49m\n\u001b[1;32m    821\u001b[0m \u001b[43m        \u001b[49m\u001b[43macquisition_timeout\u001b[49m\u001b[43m,\u001b[49m\n\u001b[1;32m    822\u001b[0m \u001b[43m    \u001b[49m\u001b[43m)\u001b[49m\n\u001b[1;32m    823\u001b[0m \u001b[38;5;28;01mexcept\u001b[39;00m Neo4jError \u001b[38;5;28;01mas\u001b[39;00m e:\n\u001b[1;32m    824\u001b[0m     \u001b[38;5;66;03m# checks if the code is an error that is caused by the client. In\u001b[39;00m\n\u001b[1;32m    825\u001b[0m     \u001b[38;5;66;03m# this case there is no sense in trying to fetch a RT from another\u001b[39;00m\n\u001b[1;32m    826\u001b[0m     \u001b[38;5;66;03m# router. Hence, the driver should fail fast during discovery.\u001b[39;00m\n\u001b[1;32m    827\u001b[0m     \u001b[38;5;28;01mif\u001b[39;00m e\u001b[38;5;241m.\u001b[39m_is_fatal_during_discovery():\n",
      "File \u001b[0;32m/opt/conda/lib/python3.11/site-packages/neo4j/_sync/io/_pool.py:784\u001b[0m, in \u001b[0;36mNeo4jPool.fetch_routing_info\u001b[0;34m(self, address, database, imp_user, bookmarks, auth, acquisition_timeout)\u001b[0m\n\u001b[1;32m    778\u001b[0m     routing_table \u001b[38;5;241m=\u001b[39m cx\u001b[38;5;241m.\u001b[39mroute(\n\u001b[1;32m    779\u001b[0m         database\u001b[38;5;241m=\u001b[39mdatabase \u001b[38;5;129;01mor\u001b[39;00m \u001b[38;5;28mself\u001b[39m\u001b[38;5;241m.\u001b[39mworkspace_config\u001b[38;5;241m.\u001b[39mdatabase,\n\u001b[1;32m    780\u001b[0m         imp_user\u001b[38;5;241m=\u001b[39mimp_user \u001b[38;5;129;01mor\u001b[39;00m \u001b[38;5;28mself\u001b[39m\u001b[38;5;241m.\u001b[39mworkspace_config\u001b[38;5;241m.\u001b[39mimpersonated_user,\n\u001b[1;32m    781\u001b[0m         bookmarks\u001b[38;5;241m=\u001b[39mbookmarks,\n\u001b[1;32m    782\u001b[0m     )\n\u001b[1;32m    783\u001b[0m \u001b[38;5;28;01mfinally\u001b[39;00m:\n\u001b[0;32m--> 784\u001b[0m     \u001b[38;5;28;43mself\u001b[39;49m\u001b[38;5;241;43m.\u001b[39;49m\u001b[43mrelease\u001b[49m\u001b[43m(\u001b[49m\u001b[43mcx\u001b[49m\u001b[43m)\u001b[49m\n\u001b[1;32m    785\u001b[0m \u001b[38;5;28;01mreturn\u001b[39;00m routing_table\n",
      "File \u001b[0;32m/opt/conda/lib/python3.11/site-packages/neo4j/_sync/io/_pool.py:481\u001b[0m, in \u001b[0;36mIOPool.release\u001b[0;34m(self, *connections)\u001b[0m\n\u001b[1;32m    475\u001b[0m \u001b[38;5;28;01mtry\u001b[39;00m:\n\u001b[1;32m    476\u001b[0m     log\u001b[38;5;241m.\u001b[39mdebug(\n\u001b[1;32m    477\u001b[0m         \u001b[38;5;124m\"\u001b[39m\u001b[38;5;124m[#\u001b[39m\u001b[38;5;132;01m%04X\u001b[39;00m\u001b[38;5;124m]  _: <POOL> release unclean connection \u001b[39m\u001b[38;5;132;01m%s\u001b[39;00m\u001b[38;5;124m\"\u001b[39m,\n\u001b[1;32m    478\u001b[0m         connection\u001b[38;5;241m.\u001b[39mlocal_port,\n\u001b[1;32m    479\u001b[0m         connection\u001b[38;5;241m.\u001b[39mconnection_id,\n\u001b[1;32m    480\u001b[0m     )\n\u001b[0;32m--> 481\u001b[0m     \u001b[43mconnection\u001b[49m\u001b[38;5;241;43m.\u001b[39;49m\u001b[43mreset\u001b[49m\u001b[43m(\u001b[49m\u001b[43m)\u001b[49m\n\u001b[1;32m    482\u001b[0m \u001b[38;5;28;01mexcept\u001b[39;00m (Neo4jError, DriverError, BoltError) \u001b[38;5;28;01mas\u001b[39;00m exc:\n\u001b[1;32m    483\u001b[0m     log\u001b[38;5;241m.\u001b[39mdebug(\n\u001b[1;32m    484\u001b[0m         \u001b[38;5;124m\"\u001b[39m\u001b[38;5;124m[#\u001b[39m\u001b[38;5;132;01m%04X\u001b[39;00m\u001b[38;5;124m]  _: <POOL> failed to reset connection \u001b[39m\u001b[38;5;124m\"\u001b[39m\n\u001b[1;32m    485\u001b[0m         \u001b[38;5;124m\"\u001b[39m\u001b[38;5;124mon release: \u001b[39m\u001b[38;5;132;01m%r\u001b[39;00m\u001b[38;5;124m\"\u001b[39m,\n\u001b[1;32m    486\u001b[0m         connection\u001b[38;5;241m.\u001b[39mlocal_port,\n\u001b[1;32m    487\u001b[0m         exc,\n\u001b[1;32m    488\u001b[0m     )\n",
      "File \u001b[0;32m/opt/conda/lib/python3.11/site-packages/neo4j/_sync/io/_bolt5.py:447\u001b[0m, in \u001b[0;36mBolt5x0.reset\u001b[0;34m(self, dehydration_hooks, hydration_hooks)\u001b[0m\n\u001b[1;32m    443\u001b[0m \u001b[38;5;28mself\u001b[39m\u001b[38;5;241m.\u001b[39m_append(\n\u001b[1;32m    444\u001b[0m     \u001b[38;5;124mb\u001b[39m\u001b[38;5;124m\"\u001b[39m\u001b[38;5;130;01m\\x0f\u001b[39;00m\u001b[38;5;124m\"\u001b[39m, response\u001b[38;5;241m=\u001b[39mresponse, dehydration_hooks\u001b[38;5;241m=\u001b[39mdehydration_hooks\n\u001b[1;32m    445\u001b[0m )\n\u001b[1;32m    446\u001b[0m \u001b[38;5;28mself\u001b[39m\u001b[38;5;241m.\u001b[39msend_all()\n\u001b[0;32m--> 447\u001b[0m \u001b[38;5;28;43mself\u001b[39;49m\u001b[38;5;241;43m.\u001b[39;49m\u001b[43mfetch_all\u001b[49m\u001b[43m(\u001b[49m\u001b[43m)\u001b[49m\n",
      "File \u001b[0;32m/opt/conda/lib/python3.11/site-packages/neo4j/_sync/io/_bolt.py:879\u001b[0m, in \u001b[0;36mBolt.fetch_all\u001b[0;34m(self)\u001b[0m\n\u001b[1;32m    877\u001b[0m response \u001b[38;5;241m=\u001b[39m \u001b[38;5;28mself\u001b[39m\u001b[38;5;241m.\u001b[39mresponses[\u001b[38;5;241m0\u001b[39m]\n\u001b[1;32m    878\u001b[0m \u001b[38;5;28;01mwhile\u001b[39;00m \u001b[38;5;129;01mnot\u001b[39;00m response\u001b[38;5;241m.\u001b[39mcomplete:\n\u001b[0;32m--> 879\u001b[0m     detail_delta, summary_delta \u001b[38;5;241m=\u001b[39m \u001b[38;5;28;43mself\u001b[39;49m\u001b[38;5;241;43m.\u001b[39;49m\u001b[43mfetch_message\u001b[49m\u001b[43m(\u001b[49m\u001b[43m)\u001b[49m\n\u001b[1;32m    880\u001b[0m     detail_count \u001b[38;5;241m+\u001b[39m\u001b[38;5;241m=\u001b[39m detail_delta\n\u001b[1;32m    881\u001b[0m     summary_count \u001b[38;5;241m+\u001b[39m\u001b[38;5;241m=\u001b[39m summary_delta\n",
      "File \u001b[0;32m/opt/conda/lib/python3.11/site-packages/neo4j/_sync/io/_bolt.py:861\u001b[0m, in \u001b[0;36mBolt.fetch_message\u001b[0;34m(self)\u001b[0m\n\u001b[1;32m    858\u001b[0m     \u001b[38;5;28;01mreturn\u001b[39;00m \u001b[38;5;241m0\u001b[39m, \u001b[38;5;241m0\u001b[39m\n\u001b[1;32m    860\u001b[0m \u001b[38;5;66;03m# Receive exactly one message\u001b[39;00m\n\u001b[0;32m--> 861\u001b[0m tag, fields \u001b[38;5;241m=\u001b[39m \u001b[38;5;28;43mself\u001b[39;49m\u001b[38;5;241;43m.\u001b[39;49m\u001b[43minbox\u001b[49m\u001b[38;5;241;43m.\u001b[39;49m\u001b[43mpop\u001b[49m\u001b[43m(\u001b[49m\n\u001b[1;32m    862\u001b[0m \u001b[43m    \u001b[49m\u001b[43mhydration_hooks\u001b[49m\u001b[38;5;241;43m=\u001b[39;49m\u001b[38;5;28;43mself\u001b[39;49m\u001b[38;5;241;43m.\u001b[39;49m\u001b[43mresponses\u001b[49m\u001b[43m[\u001b[49m\u001b[38;5;241;43m0\u001b[39;49m\u001b[43m]\u001b[49m\u001b[38;5;241;43m.\u001b[39;49m\u001b[43mhydration_hooks\u001b[49m\n\u001b[1;32m    863\u001b[0m \u001b[43m\u001b[49m\u001b[43m)\u001b[49m\n\u001b[1;32m    864\u001b[0m res \u001b[38;5;241m=\u001b[39m \u001b[38;5;28mself\u001b[39m\u001b[38;5;241m.\u001b[39m_process_message(tag, fields)\n\u001b[1;32m    865\u001b[0m \u001b[38;5;28mself\u001b[39m\u001b[38;5;241m.\u001b[39midle_since \u001b[38;5;241m=\u001b[39m monotonic()\n",
      "File \u001b[0;32m/opt/conda/lib/python3.11/site-packages/neo4j/_sync/io/_common.py:77\u001b[0m, in \u001b[0;36mInbox.pop\u001b[0;34m(self, hydration_hooks)\u001b[0m\n\u001b[1;32m     76\u001b[0m \u001b[38;5;28;01mdef\u001b[39;00m \u001b[38;5;21mpop\u001b[39m(\u001b[38;5;28mself\u001b[39m, hydration_hooks):\n\u001b[0;32m---> 77\u001b[0m     \u001b[38;5;28;43mself\u001b[39;49m\u001b[38;5;241;43m.\u001b[39;49m\u001b[43m_buffer_one_chunk\u001b[49m\u001b[43m(\u001b[49m\u001b[43m)\u001b[49m\n\u001b[1;32m     78\u001b[0m     \u001b[38;5;28;01mtry\u001b[39;00m:\n\u001b[1;32m     79\u001b[0m         size, tag \u001b[38;5;241m=\u001b[39m \u001b[38;5;28mself\u001b[39m\u001b[38;5;241m.\u001b[39m_unpacker\u001b[38;5;241m.\u001b[39munpack_structure_header()\n",
      "File \u001b[0;32m/opt/conda/lib/python3.11/site-packages/neo4j/_sync/io/_common.py:54\u001b[0m, in \u001b[0;36mInbox._buffer_one_chunk\u001b[0;34m(self)\u001b[0m\n\u001b[1;32m     51\u001b[0m \u001b[38;5;28;01mwhile\u001b[39;00m \u001b[38;5;28;01mTrue\u001b[39;00m:\n\u001b[1;32m     52\u001b[0m     \u001b[38;5;28;01mwhile\u001b[39;00m chunk_size \u001b[38;5;241m==\u001b[39m \u001b[38;5;241m0\u001b[39m:\n\u001b[1;32m     53\u001b[0m         \u001b[38;5;66;03m# Determine the chunk size and skip noop\u001b[39;00m\n\u001b[0;32m---> 54\u001b[0m         \u001b[43mreceive_into_buffer\u001b[49m\u001b[43m(\u001b[49m\u001b[38;5;28;43mself\u001b[39;49m\u001b[38;5;241;43m.\u001b[39;49m\u001b[43m_socket\u001b[49m\u001b[43m,\u001b[49m\u001b[43m \u001b[49m\u001b[38;5;28;43mself\u001b[39;49m\u001b[38;5;241;43m.\u001b[39;49m\u001b[43m_buffer\u001b[49m\u001b[43m,\u001b[49m\u001b[43m \u001b[49m\u001b[38;5;241;43m2\u001b[39;49m\u001b[43m)\u001b[49m\n\u001b[1;32m     55\u001b[0m         chunk_size \u001b[38;5;241m=\u001b[39m \u001b[38;5;28mself\u001b[39m\u001b[38;5;241m.\u001b[39m_buffer\u001b[38;5;241m.\u001b[39mpop_u16()\n\u001b[1;32m     56\u001b[0m         \u001b[38;5;28;01mif\u001b[39;00m chunk_size \u001b[38;5;241m==\u001b[39m \u001b[38;5;241m0\u001b[39m:\n",
      "File \u001b[0;32m/opt/conda/lib/python3.11/site-packages/neo4j/_sync/io/_common.py:345\u001b[0m, in \u001b[0;36mreceive_into_buffer\u001b[0;34m(sock, buffer, n_bytes)\u001b[0m\n\u001b[1;32m    343\u001b[0m \u001b[38;5;28;01mwith\u001b[39;00m \u001b[38;5;28mmemoryview\u001b[39m(buffer\u001b[38;5;241m.\u001b[39mdata) \u001b[38;5;28;01mas\u001b[39;00m view:\n\u001b[1;32m    344\u001b[0m     \u001b[38;5;28;01mwhile\u001b[39;00m buffer\u001b[38;5;241m.\u001b[39mused \u001b[38;5;241m<\u001b[39m end:\n\u001b[0;32m--> 345\u001b[0m         n \u001b[38;5;241m=\u001b[39m \u001b[43msock\u001b[49m\u001b[38;5;241;43m.\u001b[39;49m\u001b[43mrecv_into\u001b[49m\u001b[43m(\u001b[49m\n\u001b[1;32m    346\u001b[0m \u001b[43m            \u001b[49m\u001b[43mview\u001b[49m\u001b[43m[\u001b[49m\u001b[43mbuffer\u001b[49m\u001b[38;5;241;43m.\u001b[39;49m\u001b[43mused\u001b[49m\u001b[43m \u001b[49m\u001b[43m:\u001b[49m\u001b[43m \u001b[49m\u001b[43mend\u001b[49m\u001b[43m]\u001b[49m\u001b[43m,\u001b[49m\u001b[43m \u001b[49m\u001b[43mend\u001b[49m\u001b[43m \u001b[49m\u001b[38;5;241;43m-\u001b[39;49m\u001b[43m \u001b[49m\u001b[43mbuffer\u001b[49m\u001b[38;5;241;43m.\u001b[39;49m\u001b[43mused\u001b[49m\n\u001b[1;32m    347\u001b[0m \u001b[43m        \u001b[49m\u001b[43m)\u001b[49m\n\u001b[1;32m    348\u001b[0m         \u001b[38;5;28;01mif\u001b[39;00m n \u001b[38;5;241m==\u001b[39m \u001b[38;5;241m0\u001b[39m:\n\u001b[1;32m    349\u001b[0m             \u001b[38;5;28;01mraise\u001b[39;00m \u001b[38;5;167;01mOSError\u001b[39;00m(\u001b[38;5;124m\"\u001b[39m\u001b[38;5;124mNo data\u001b[39m\u001b[38;5;124m\"\u001b[39m)\n",
      "File \u001b[0;32m/opt/conda/lib/python3.11/site-packages/neo4j/_async_compat/network/_bolt_socket.py:364\u001b[0m, in \u001b[0;36mBoltSocketBase.recv_into\u001b[0;34m(self, buffer, nbytes)\u001b[0m\n\u001b[1;32m    363\u001b[0m \u001b[38;5;28;01mdef\u001b[39;00m \u001b[38;5;21mrecv_into\u001b[39m(\u001b[38;5;28mself\u001b[39m, buffer, nbytes):\n\u001b[0;32m--> 364\u001b[0m     \u001b[38;5;28;01mreturn\u001b[39;00m \u001b[38;5;28;43mself\u001b[39;49m\u001b[38;5;241;43m.\u001b[39;49m\u001b[43m_wait_for_io\u001b[49m\u001b[43m(\u001b[49m\u001b[38;5;28;43mself\u001b[39;49m\u001b[38;5;241;43m.\u001b[39;49m\u001b[43m_socket\u001b[49m\u001b[38;5;241;43m.\u001b[39;49m\u001b[43mrecv_into\u001b[49m\u001b[43m,\u001b[49m\u001b[43m \u001b[49m\u001b[43mbuffer\u001b[49m\u001b[43m,\u001b[49m\u001b[43m \u001b[49m\u001b[43mnbytes\u001b[49m\u001b[43m)\u001b[49m\n",
      "File \u001b[0;32m/opt/conda/lib/python3.11/site-packages/neo4j/_async_compat/network/_bolt_socket.py:339\u001b[0m, in \u001b[0;36mBoltSocketBase._wait_for_io\u001b[0;34m(self, func, *args, **kwargs)\u001b[0m\n\u001b[1;32m    337\u001b[0m \u001b[38;5;28;01mdef\u001b[39;00m \u001b[38;5;21m_wait_for_io\u001b[39m(\u001b[38;5;28mself\u001b[39m, func, \u001b[38;5;241m*\u001b[39margs, \u001b[38;5;241m*\u001b[39m\u001b[38;5;241m*\u001b[39mkwargs):\n\u001b[1;32m    338\u001b[0m     \u001b[38;5;28;01mif\u001b[39;00m \u001b[38;5;28mself\u001b[39m\u001b[38;5;241m.\u001b[39m_deadline \u001b[38;5;129;01mis\u001b[39;00m \u001b[38;5;28;01mNone\u001b[39;00m:\n\u001b[0;32m--> 339\u001b[0m         \u001b[38;5;28;01mreturn\u001b[39;00m \u001b[43mfunc\u001b[49m\u001b[43m(\u001b[49m\u001b[38;5;241;43m*\u001b[39;49m\u001b[43margs\u001b[49m\u001b[43m,\u001b[49m\u001b[43m \u001b[49m\u001b[38;5;241;43m*\u001b[39;49m\u001b[38;5;241;43m*\u001b[39;49m\u001b[43mkwargs\u001b[49m\u001b[43m)\u001b[49m\n\u001b[1;32m    340\u001b[0m     timeout \u001b[38;5;241m=\u001b[39m \u001b[38;5;28mself\u001b[39m\u001b[38;5;241m.\u001b[39m_socket\u001b[38;5;241m.\u001b[39mgettimeout()\n\u001b[1;32m    341\u001b[0m     deadline_timeout \u001b[38;5;241m=\u001b[39m \u001b[38;5;28mself\u001b[39m\u001b[38;5;241m.\u001b[39m_deadline\u001b[38;5;241m.\u001b[39mto_timeout()\n",
      "\u001b[0;31mKeyboardInterrupt\u001b[0m: "
     ]
    }
   ],
   "source": [
    "entity_score_query = \"\"\"\n",
    "MATCH (r:Resume {community_id: 801})-[:CONTAINS]->(:NounPhrase)-[sim:SIMILAR_TO]->(entity)-[req:REQUIRED_FOR]->(job:JobTitle)\n",
    "WITH job.title AS Job, labels(entity)[0] AS entity_type, sum(sim.score * req.importance) AS entity_score\n",
    "ORDER BY Job, entity_type\n",
    "RETURN Job, entity_type, entity_score\n",
    "\"\"\"\n",
    "\n",
    "entity_scores_df = run_query(entity_score_query)\n",
    "display(entity_scores_df.head(10))  # Display first few rows\n"
   ]
  },
  {
   "cell_type": "code",
   "execution_count": 10,
   "id": "b062b399-564f-45f4-b262-0f5d3dc0a1b1",
   "metadata": {},
   "outputs": [],
   "source": [
    "import os\n",
    "import pandas as pd\n",
    "import logging\n",
    "from neo4j import GraphDatabase\n",
    "\n",
    "# ------------------------------------------\n",
    "# Neo4j connection settings\n",
    "# ------------------------------------------\n",
    "NEO4J_URI = \"bolt://20.14.162.151:7687\"\n",
    "NEO4J_USER = \"neo4j\"\n",
    "NEO4J_PASSWORD = \"recluse2025\"\n",
    "\n",
    "input_dir = \"../data/similarity_outputs\"\n",
    "resume_csv_path = \"../data/annotations_scenario_1/cleaned_resumes.csv\"\n",
    "\n",
    "driver = GraphDatabase.driver(NEO4J_URI, auth=(NEO4J_USER, NEO4J_PASSWORD))\n",
    "logging.basicConfig(level=logging.INFO, format=\"%(levelname)s: %(message)s\")\n",
    "\n",
    "# ------------------------------------------\n",
    "# Step 1: Clear the Neo4j database\n",
    "# ------------------------------------------\n",
    "\n",
    "def delete_all_nodes(tx):\n",
    "    tx.run(\"MATCH (n) DETACH DELETE n\")\n",
    "\n",
    "def drop_constraints(tx):\n",
    "    for record in tx.run(\"SHOW CONSTRAINTS\").data():\n",
    "        tx.run(f\"DROP CONSTRAINT {record['name']}\")\n",
    "\n",
    "def drop_indexes(tx):\n",
    "    for record in tx.run(\"SHOW INDEXES\").data():\n",
    "        tx.run(f\"DROP INDEX {record['name']}\")\n",
    "\n",
    "def clear_database():\n",
    "    with driver.session() as session:\n",
    "        logging.info(\"🧹 Deleting all nodes and relationships...\")\n",
    "        session.execute_write(delete_all_nodes)\n",
    "    with driver.session() as session:\n",
    "        logging.info(\"🧹 Dropping all constraints...\")\n",
    "        session.execute_write(drop_constraints)\n",
    "    with driver.session() as session:\n",
    "        logging.info(\"🧹 Dropping all indexes...\")\n",
    "        session.execute_write(drop_indexes)\n",
    "    logging.info(\"✅ Neo4j fully cleared.\")\n",
    "\n",
    "# ------------------------------------------\n",
    "# Step 2: Create constraints dynamically\n",
    "# ------------------------------------------\n",
    "\n",
    "def create_constraints(tx, entity_labels):\n",
    "    tx.run(\"CREATE CONSTRAINT IF NOT EXISTS FOR (r:Resume) REQUIRE r.id IS UNIQUE\")\n",
    "    tx.run(\"CREATE CONSTRAINT IF NOT EXISTS FOR (n:NounPhrase) REQUIRE n.text IS UNIQUE\")\n",
    "    tx.run(\"CREATE CONSTRAINT IF NOT EXISTS FOR (j:JobTitle) REQUIRE j.title IS UNIQUE\")\n",
    "    for label in entity_labels:\n",
    "        tx.run(f\"CREATE CONSTRAINT IF NOT EXISTS FOR (e:{label}) REQUIRE e.text IS UNIQUE\")\n",
    "        tx.run(f\"CREATE INDEX IF NOT EXISTS FOR (e:{label}) ON (e.onetsoc_code)\")\n",
    "\n",
    "# ------------------------------------------\n",
    "# Step 3: Load resume CSV and create Resume nodes\n",
    "# ------------------------------------------\n",
    "\n",
    "def load_resumes_from_csv():\n",
    "    df = pd.read_csv(resume_csv_path)\n",
    "    return df[[\"resume_id\", \"resume_text\", \"original_job\"]].drop_duplicates()\n",
    "\n",
    "def push_resume_node(tx, resume_id, resume_text, original_job):\n",
    "    tx.run(\"\"\"\n",
    "        MERGE (r:Resume {id: $resume_id})\n",
    "        SET r.resume_text = $resume_text,\n",
    "            r.original_job = $original_job\n",
    "    \"\"\", resume_id=resume_id, resume_text=resume_text, original_job=original_job)\n",
    "\n",
    "# ------------------------------------------\n",
    "# Step 4: Push similarity data and build graph\n",
    "# ------------------------------------------\n",
    "\n",
    "def push_to_neo4j(tx, record, entity_label, entity_key):\n",
    "    query = f\"\"\"\n",
    "        MATCH (r:Resume {{id: $resume_id}})\n",
    "        MERGE (n:NounPhrase {{text: $noun_phrase}})\n",
    "        MERGE (e:{entity_label} {{text: $entity_text}})\n",
    "        MERGE (j:JobTitle {{title: $job_title}})\n",
    "        SET j.onetsoc_code = $onetsoc_code\n",
    "        MERGE (r)-[:CONTAINS]->(n)\n",
    "        MERGE (n)-[s:SIMILAR_TO]->(e)\n",
    "        SET s.score = $similarity_score\n",
    "        {'SET s.example_text = $example_text' if entity_label in ['Tools', 'Tech'] else ''}\n",
    "        MERGE (e)-[rj:REQUIRED_FOR]->(j)\n",
    "        SET rj.importance = $data_value\n",
    "    \"\"\"\n",
    "\n",
    "    params = {\n",
    "        \"resume_id\": record[\"resume_id\"],\n",
    "        \"noun_phrase\": record[\"noun_phrase\"],\n",
    "        \"entity_text\": record[entity_key],\n",
    "        \"job_title\": record[\"entity_job_title\"],\n",
    "        \"similarity_score\": round(record[\"similarity_score\"], 4),\n",
    "        \"data_value\": record[\"data_value\"],\n",
    "        \"onetsoc_code\": record[\"onetsoc_code\"]\n",
    "    }\n",
    "\n",
    "    if entity_label in [\"Tools\", \"Tech\"]:\n",
    "        params[\"example_text\"] = record[\"example_text\"]\n",
    "\n",
    "    tx.run(query, **params)\n",
    "\n",
    "# ------------------------------------------\n",
    "# Step 5: Main execution\n",
    "# ------------------------------------------\n",
    "\n",
    "def main():\n",
    "    # Reset the database\n",
    "    clear_database()\n",
    "\n",
    "    #resume_abilities_similarity_matrix.csv  resume_skills_similarity_matrix.csv           similarity_matrix_tech.csv\n",
    "    #resume_knowledge_similarity_matrix.csv  resume_work_activities_similarity_matrix.csv  similarity_matrix_tools.csv\n",
    "\n",
    "    # Define fixed entity labels and expected files\n",
    "    entity_files = {\n",
    "        \"Abilities\": \"resume_abilities_similarity_matrix.csv \",\n",
    "        \"Knowledge\": \"resume_knowledge_similarity_matrix.csv\",\n",
    "        \"Skills\": \"resume_skills_similarity_matrix.csv \",\n",
    "        \"Workactivities\": \"resume_work_activities_similarity_matrix.csv\",\n",
    "        \"Tools\": \"similarity_matrix_tools.csv\",\n",
    "        \"Tech\": \"similarity_matrix_tech.csv\"\n",
    "    }\n",
    "\n",
    "    entity_labels = list(entity_files.keys())\n",
    "\n",
    "    # Create constraints\n",
    "    with driver.session() as session:\n",
    "        session.execute_write(create_constraints, entity_labels)\n",
    "        logging.info(f\"✅ Constraints created for: {entity_labels}\")\n",
    "\n",
    "    # Create Resume nodes\n",
    "    df_resumes = load_resumes_from_csv()\n",
    "    with driver.session() as session:\n",
    "        for _, row in df_resumes.iterrows():\n",
    "            session.execute_write(push_resume_node, row[\"resume_id\"], row[\"resume_text\"], row[\"original_job\"])\n",
    "    logging.info(f\"✅ Created {len(df_resumes)} Resume nodes.\")\n",
    "\n",
    "    # Load similarity CSVs and build graph\n",
    "    with driver.session() as session:\n",
    "        for label, file in entity_files.items():\n",
    "            file_path = os.path.join(input_dir, file)\n",
    "            if not os.path.exists(file_path):\n",
    "                logging.warning(f\"⚠️ File not found: {file_path}, skipping.\")\n",
    "                continue\n",
    "\n",
    "            logging.info(f\"📂 Loading: {file_path}\")\n",
    "            df = pd.read_csv(file_path)\n",
    "\n",
    "            entity_key = f\"{label.lower()}_entity\"\n",
    "            required_cols = [\n",
    "                \"resume_id\", \"noun_phrase\", entity_key,\n",
    "                \"similarity_score\", \"data_value\", \"entity_job_title\", \"onetsoc_code\"\n",
    "            ]\n",
    "\n",
    "            if label in [\"Tools\", \"Tech\"]:\n",
    "                required_cols.append(\"example_text\")\n",
    "\n",
    "            if not all(col in df.columns for col in required_cols):\n",
    "                logging.warning(f\"⚠️ Required columns missing in {file}, skipping.\")\n",
    "                continue\n",
    "\n",
    "            for _, row in df.iterrows():\n",
    "                session.execute_write(push_to_neo4j, row, label, entity_key)\n",
    "\n",
    "            logging.info(f\"✅ Finished pushing {label} data.\")\n",
    "\n",
    "    driver.close()\n",
    "    logging.info(\"🎉 All graph data pushed successfully to Neo4j.\")\n",
    "\n"
   ]
  },
  {
   "cell_type": "code",
   "execution_count": null,
   "id": "6f264b2c-f393-45b3-8214-d441333e9806",
   "metadata": {},
   "outputs": [],
   "source": [
    "# ------------------------------------------\n",
    "# Run the script\n",
    "# ------------------------------------------\n",
    "if __name__ == \"__main__\":\n",
    "    main()\n"
   ]
  },
  {
   "cell_type": "code",
   "execution_count": 11,
   "id": "8f6abc18-b869-4805-a942-1e97bc44bbe1",
   "metadata": {},
   "outputs": [],
   "source": [
    "    # Define fixed entity labels and expected files\n",
    "entity_files = {\n",
    "        \"Abilities\": \"resume_abilities_similarity_matrix.csv \",\n",
    "        \"Knowledge\": \"resume_knowledge_similarity_matrix.csv\",\n",
    "        \"Skills\": \"resume_skills_similarity_matrix.csv \",\n",
    "        \"Workactivities\": \"resume_work_activities_similarity_matrix.csv\",\n",
    "        \"Tools\": \"similarity_matrix_tools.csv\",\n",
    "        \"Tech\": \"similarity_matrix_tech.csv\"\n",
    "    }\n",
    "\n",
    "entity_labels = list(entity_files.keys())"
   ]
  },
  {
   "cell_type": "code",
   "execution_count": 12,
   "id": "5e7f09e3-fbcd-4ba1-98c2-e811307e17ef",
   "metadata": {},
   "outputs": [
    {
     "data": {
      "text/plain": [
       "['Abilities', 'Knowledge', 'Skills', 'Workactivities', 'Tools', 'Tech']"
      ]
     },
     "execution_count": 12,
     "metadata": {},
     "output_type": "execute_result"
    }
   ],
   "source": [
    "entity_labels"
   ]
  },
  {
   "cell_type": "code",
   "execution_count": 20,
   "id": "05554847-bd77-40c3-aa58-aa8e9a1126ce",
   "metadata": {},
   "outputs": [
    {
     "name": "stdout",
     "output_type": "stream",
     "text": [
      "../data/similarity_outputs/resume_abilities_similarity_matrix.csv \n",
      "../data/similarity_outputs/resume_knowledge_similarity_matrix.csv\n",
      "../data/similarity_outputs/resume_skills_similarity_matrix.csv \n",
      "../data/similarity_outputs/resume_work_activities_similarity_matrix.csv\n",
      "../data/similarity_outputs/similarity_matrix_tools.csv\n",
      "../data/similarity_outputs/similarity_matrix_tech.csv\n"
     ]
    }
   ],
   "source": [
    "for label, file in entity_files.items():\n",
    "    file_path = os.path.join(input_dir, file)\n",
    "    print(file_path)"
   ]
  },
  {
   "cell_type": "code",
   "execution_count": 22,
   "id": "09d9a70a-9f83-4a00-9f34-481ccdc12e67",
   "metadata": {},
   "outputs": [],
   "source": [
    "df = pd.read_csv(\"../data/similarity_outputs/resume_abilities_similarity_matrix.csv\")"
   ]
  },
  {
   "cell_type": "code",
   "execution_count": 23,
   "id": "9a8f6050-d77c-441b-b9bd-b6b07b602483",
   "metadata": {},
   "outputs": [
    {
     "data": {
      "text/plain": [
       "True"
      ]
     },
     "execution_count": 23,
     "metadata": {},
     "output_type": "execute_result"
    }
   ],
   "source": [
    "os.path.exists(file_path)"
   ]
  }
 ],
 "metadata": {
  "kernelspec": {
   "display_name": "Python 3 (ipykernel)",
   "language": "python",
   "name": "python3"
  },
  "language_info": {
   "codemirror_mode": {
    "name": "ipython",
    "version": 3
   },
   "file_extension": ".py",
   "mimetype": "text/x-python",
   "name": "python",
   "nbconvert_exporter": "python",
   "pygments_lexer": "ipython3",
   "version": "3.11.10"
  }
 },
 "nbformat": 4,
 "nbformat_minor": 5
}
