{
 "cells": [
  {
   "cell_type": "code",
   "execution_count": 7,
   "id": "cc831ff3-9dd4-4eaa-93ed-0931a7cd29f1",
   "metadata": {},
   "outputs": [
    {
     "name": "stdout",
     "output_type": "stream",
     "text": [
      "opening 10 files\n",
      "Converted 31_technology_skills.sql to SQLite-compatible format.\n",
      "Converted 16_skills.sql to SQLite-compatible format.\n",
      "Converted 03_occupation_data.sql to SQLite-compatible format.\n",
      "Converted 12_education_training_experience.sql to SQLite-compatible format.\n",
      "Converted 32_tools_used.sql to SQLite-compatible format.\n",
      "Converted 29_alternate_titles.sql to SQLite-compatible format.\n",
      "Converted 11_abilities.sql to SQLite-compatible format.\n",
      "Converted 15_knowledge.sql to SQLite-compatible format.\n",
      "Converted SQL files saved to data/O_Net_SqlLite/o_net_sqlite_schema.sql\n"
     ]
    }
   ],
   "source": [
    "import re\n",
    "import os\n",
    "\n",
    "def convert_mysql_to_sqlite(mysql_files_dir, sqlite_file_path):\n",
    "    # Create or open the SQLite database\n",
    "    with open(sqlite_file_path, 'w') as sqlite_file:\n",
    "        print(f\"opening {len(os.listdir(mysql_files_dir))} files\")\n",
    "        # Loop through each .sql file in the directory\n",
    "        for filename in os.listdir(mysql_files_dir):\n",
    "            if filename.endswith(\".sql\"):\n",
    "                # Full path to the MySQL .sql file\n",
    "                mysql_file_path = os.path.join(mysql_files_dir, filename)\n",
    "\n",
    "                # Read the content of the MySQL SQL file\n",
    "                with open(mysql_file_path, 'r') as mysql_file:\n",
    "                    sql_content = mysql_file.read()\n",
    "\n",
    "                    # Make necessary replacements to convert MySQL to SQLite syntax\n",
    "                    sql_content = re.sub(r'AUTO_INCREMENT', 'INTEGER PRIMARY KEY AUTOINCREMENT', sql_content)\n",
    "                    sql_content = re.sub(r'\\bINT\\(\\d+\\)\\b', 'INTEGER', sql_content)\n",
    "                    sql_content = re.sub(r'\\bVARCHAR\\(\\d+\\)\\b', 'TEXT', sql_content)\n",
    "                    sql_content = re.sub(r'\\bDATETIME\\b', 'TEXT', sql_content)\n",
    "                    sql_content = re.sub(r'\\bTIMESTAMP\\b', 'TEXT', sql_content)\n",
    "                    sql_content = re.sub(r'`', '', sql_content)  # Remove backticks for SQLite\n",
    "\n",
    "                    # Remove MySQL-specific settings (like ENGINE and CHARSET)\n",
    "                    sql_content = re.sub(r'ENGINE=\\w+', '', sql_content)\n",
    "                    sql_content = re.sub(r'CHARSET=\\w+', '', sql_content)\n",
    "\n",
    "                    # Write the converted content into the SQLite .sql file\n",
    "                    sqlite_file.write(sql_content + \"\\n\\n\")\n",
    "\n",
    "                print(f\"Converted {filename} to SQLite-compatible format.\")\n",
    "\n",
    "    print(f\"Converted SQL files saved to {sqlite_file_path}\")\n",
    "\n",
    "# Example usage:\n",
    "mysql_files_directory = 'data/O_Net_MySQL/db_29_2_mysql/'  # Folder containing MySQL .sql files\n",
    "sqlite_output_file = 'data/O_Net_SqlLite/o_net_sqlite_schema.sql'  # SQLite-compatible .sql file\n",
    "\n",
    "# Convert the MySQL .sql files to a single SQLite .sql file\n",
    "convert_mysql_to_sqlite(mysql_files_directory, sqlite_output_file)\n"
   ]
  },
  {
   "cell_type": "code",
   "execution_count": 5,
   "id": "4f109b4d-90d8-437d-9115-8c6037685c48",
   "metadata": {},
   "outputs": [],
   "source": [
    "# import sqlite3\n",
    "\n",
    "# def create_database_from_sqlite_sql(sqlite_file, sql_file):\n",
    "#     # Connect to SQLite database (creates the database file if it doesn't exist)\n",
    "#     conn = sqlite3.connect(sqlite_file)\n",
    "#     cursor = conn.cursor()\n",
    "\n",
    "#     # Open and read the converted SQL file\n",
    "#     with open(sql_file, 'r') as file:\n",
    "#         sql_content = file.read()\n",
    "\n",
    "#     # Execute the SQL commands to create the tables and insert data\n",
    "#     cursor.executescript(sql_content)\n",
    "\n",
    "#     # Commit and close the connection\n",
    "#     conn.commit()\n",
    "#     conn.close()\n",
    "#     print(f\"Database {sqlite_file} created and data imported successfully!\")\n",
    "\n",
    "# # Example usage:\n",
    "# sqlite_file = 'data/O_Net_SqlLite/onet_database.db'  # SQLite database file\n",
    "# sql_file = 'data/O_Net_SqlLite/o_net_sqlite_schema.sql'  # Converted SQL file\n",
    "\n",
    "# create_database_from_sqlite_sql(sqlite_file, sql_file)\n"
   ]
  },
  {
   "cell_type": "code",
   "execution_count": null,
   "id": "0e042238-8959-48ba-a3b4-3d0dcaabfc6c",
   "metadata": {},
   "outputs": [],
   "source": [
    "!sqlite3 path/to/your/onet_database.db\n",
    "!.read path/to/your/o_net_sqlite_schema.sql"
   ]
  }
 ],
 "metadata": {
  "kernelspec": {
   "display_name": "Python 3 (ipykernel)",
   "language": "python",
   "name": "python3"
  },
  "language_info": {
   "codemirror_mode": {
    "name": "ipython",
    "version": 3
   },
   "file_extension": ".py",
   "mimetype": "text/x-python",
   "name": "python",
   "nbconvert_exporter": "python",
   "pygments_lexer": "ipython3",
   "version": "3.11.10"
  }
 },
 "nbformat": 4,
 "nbformat_minor": 5
}
